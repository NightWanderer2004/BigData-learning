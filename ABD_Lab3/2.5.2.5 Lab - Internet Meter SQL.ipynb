{
 "cells": [
  {
   "cell_type": "markdown",
   "metadata": {},
   "source": [
    "![Title](Images/cisco.png)"
   ]
  },
  {
   "cell_type": "markdown",
   "metadata": {},
   "source": [
    "# Lab - Internet Meter SQL\n"
   ]
  },
  {
   "cell_type": "markdown",
   "metadata": {},
   "source": [
    "### Objectives\n",
    "\n",
    "<b>\n",
    "* Part 1: Set up your Database\n",
    "* Part 2: Connect to the Database \n",
    "* Part 3: Manipulate the Data with Pandas\n",
    "* Part 4: Join Tables with Pandas\n",
    "</b>"
   ]
  },
  {
   "cell_type": "markdown",
   "metadata": {},
   "source": [
    "### Scenario/Background\n",
    "In this lab you will learn how to connect to a relational database, retrieve and manipulate the data through a Jupyter notebook. The data you are provided contain various measurements for ping, upload and download speed made in different Local Authorities around England. At the moment the data is stored in a csv file, but you will create a database and populate it with the measurement. \n",
    "\n",
    "You will:\n",
    "* Work with a relational database\n",
    "* Set up SQLite\n",
    "* Create a new database\n",
    "* Use csvsql to create a new table and retrieve data directly from a big csv file\n",
    "* Connect to a database with the sqlite3 Python library\n",
    "* Perform basic SQL queries through Python\n",
    "* Explore the interaction between Pandas and an SQL database\n",
    "* Merge two tables"
   ]
  },
  {
   "cell_type": "markdown",
   "metadata": {},
   "source": [
    "### Required Resources\n",
    "* 1 PC with Internet access\n",
    "* Raspberry Pi version 2 or higher\n",
    "* Python libraries: sqlite3, pandas, matplotlib\n",
    "* Additional libraries: csvkit\n",
    "* Datafiles: LA_wifi_speed_UK.csv, LA_population.csv\n",
    "\n",
    "### SQL refresh\n",
    "* Very brief introduction to relational databases (temporary): http://searchsqlserver.techtarget.com/definition/relational-database</li>\n",
    "* More videos on relational databases: https://www.youtube.com/watch?v=jyju2P-7hPA&list=PLAwxTw4SYaPm4R6j_wzVOCV9fJaiQDYx4</li>\n",
    "* Introduction to SQL http://www.w3schools.com/sql/sql_intro.asp</li>"
   ]
  },
  {
   "cell_type": "markdown",
   "metadata": {},
   "source": [
    "## Part 1: Set up your Database"
   ]
  },
  {
   "cell_type": "markdown",
   "metadata": {},
   "source": [
    "In this part, you will use SQLite, an in-process library that implements a self-contained, serverless, zero-configuration, transactional SQL database engine to set up the environment."
   ]
  },
  {
   "cell_type": "markdown",
   "metadata": {},
   "source": [
    "#### Step 1: Set up the working environment.\n",
    "We will need `sqlite3` and `csvkit` to complete this notebook. \n",
    "\n",
    "###### a) Install SQLite.\n",
    "In a Jupyter notebook, it is possible to run the same commands that would be used in the terminal. To do so, start the line with an exclamation mark (```!```)."
   ]
  },
  {
   "cell_type": "code",
   "execution_count": null,
   "metadata": {
    "collapsed": true
   },
   "outputs": [],
   "source": [
    "# Code Cell 1\n",
    "!apt-get update\n",
    "!apt-get -y install sqlite3"
   ]
  },
  {
   "cell_type": "markdown",
   "metadata": {},
   "source": [
    "After the installation process finishes, create a database:\n",
    "\n",
    "    $sqlite3 <name of your database> \".databases\"\n",
    "\n",
    "*name of the database* is the name you want to give to your database, for example InternetSpeed:\n",
    "\n",
    "    $sqlite3 InternetSpeed.db \".databases\"\n",
    "    \n",
    "This code creates the database in a terminal window. If you are using the terminal, be sure to navigate to the same directory in which this lab resides."
   ]
  },
  {
   "cell_type": "code",
   "execution_count": 1,
   "metadata": {
    "collapsed": true
   },
   "outputs": [
    {
     "name": "stdout",
     "output_type": "stream",
     "text": [
      "main: /Users/night2004/Code/big-data/ABD_Lab3/InternetSpeed.db\n"
     ]
    }
   ],
   "source": [
    "# Code Cell 2\n",
    "#Create the InternetSpeed database\n",
    "!sqlite3 InternetSpeed.db \".databases\""
   ]
  },
  {
   "cell_type": "markdown",
   "metadata": {},
   "source": [
    "At this point, on your local machine, you have a new, empty database called InternetSpeed.\n",
    "Usually, if you want to create a table, you need to provide a schema specifying the name of the table, the name of the columns, and the type of data that goes in every column (int, str, decimal, etc.).\n",
    "<p>For the purpose of this course, A **synthetic** dataset with wifi speed measurements recorded in 300 locations in the United Kingdom is used for the purpose of this course. The file is structured in a way that each column contains the measurements for a location of one of the three statistics (ping, download, and upload). This means that the table we need has 300\\*3 columns (plus the datetime, and an index column). Writing the schema for such a table by hand is unfeasible. Fortunately, there are ways to overcome this, and one of those is using the **csvkit** package, which contains the function **csvsql** that can be used to create a table and import the data in one command.</p>\n",
    "\n",
    "###### b) Install csvkit.\n",
    "Install csvkit at the terminal:\n",
    "\n",
    "    $pip install csvkit\n",
    "    \n",
    "You can also stay in the notebook environment, as you have done previously, adding the exclamation mark at the beginning of the line.\n",
    "\n",
    "The file used in this part of the lab is called LA_wifi_speed_UK.csv."
   ]
  },
  {
   "cell_type": "code",
   "execution_count": null,
   "metadata": {
    "collapsed": true
   },
   "outputs": [],
   "source": [
    "# Code Cell 3\n",
    "#Installing csvkit\n",
    "!pip install csvkit"
   ]
  },
  {
   "cell_type": "markdown",
   "metadata": {},
   "source": [
    "###### c) Import the data into the database.\n",
    "Use csvsql to create a new table in the database InternetSpeed and retrieve the data contained in the csv file. First, make sure that there is not another database with the same name. If one exists, remove it:\n",
    "    \n",
    "    $test tmp/InternetSpeed.db && rm InternetSpeed.db\n",
    "\n",
    "Use csvkit to populate the database from the csv file:\n",
    "\n",
    "    $csvsql --db sqlite:///InternetSpeed.db --insert ./Data/LA_wifi_speed_UK.csv\n",
    "    \n",
    "You can do this through the terminal or remain in the notebook environment."
   ]
  },
  {
   "cell_type": "code",
   "execution_count": 2,
   "metadata": {
    "collapsed": true
   },
   "outputs": [],
   "source": [
    "# Code Cell 4\n",
    "# Removing database if already existing\n",
    "!test -e InternetSpeed.db && rm InternetSpeed.db\n",
    "# Importing the LA_wifi_speed_UK.csv file into a sql database file InternetSpeed.db\n",
    "!csvsql --db sqlite:///InternetSpeed.db --insert ./Data/LA_wifi_speed_UK.csv\n",
    "# This will take a while "
   ]
  },
  {
   "cell_type": "markdown",
   "metadata": {},
   "source": [
    "## Part 2: Connect to the Database "
   ]
  },
  {
   "cell_type": "markdown",
   "metadata": {},
   "source": [
    "Python is used to connect to the database and run some queries to see what this data looks like.\n",
    "\n",
    "Import the libraries:\n"
   ]
  },
  {
   "cell_type": "code",
   "execution_count": 27,
   "metadata": {
    "collapsed": true
   },
   "outputs": [],
   "source": [
    "# Code Cell 5\n",
    "# this is the library to talk to the database\n",
    "import sqlite3\n",
    "import pandas as pd\n",
    "import numpy as np\n",
    "# this is a library for data visualization\n",
    "from matplotlib import pyplot as plt\n",
    "# this is to say that we want our plots to be part of this page, and not opened in a new window\n",
    "%matplotlib inline"
   ]
  },
  {
   "cell_type": "markdown",
   "metadata": {},
   "source": [
    "You can find sqlite3 for Python documentation here: https://docs.python.org/2/library/sqlite3.html\n",
    "\n",
    "#### Step 1: Connect and execute a query.\n",
    "An open connection and a cursor is needed to communicate with the database. The cursor is a control structure that will enable us to navigate through tables and records. \n",
    "\n",
    "To open a connection, call the method `connect` of the library `sqlite3`. This function takes a string containing the name of the database for which the connection is needed.\n",
    "\n",
    "In this case, the command will be:\n",
    "\n",
    "    sqlite3.connect('InternetSpeed.db')\n",
    "\n",
    "This function returns the connection that will be stored as a variable, called `conn`. To create the cursor, call the method `cursor()` in the following way:\n",
    "\n",
    "    conn.cursor()\n",
    "\n",
    "Save it in a variable called `cur`.\n",
    " \n",
    "\n",
    "###### a) Connect to the database you just created, and then create a cursor pointing to the database.\n"
   ]
  },
  {
   "cell_type": "code",
   "execution_count": 4,
   "metadata": {
    "collapsed": true
   },
   "outputs": [],
   "source": [
    "# Code Cell 6\n",
    "# what is the name of the database you want to connect to?\n",
    "conn = sqlite3.connect('InternetSpeed.db')\n",
    "cur = conn.cursor()"
   ]
  },
  {
   "cell_type": "markdown",
   "metadata": {},
   "source": [
    "In order to execute a query on the database, we will need to use the cursor we just created and the method `execute()`. This method takes as input a string containing the query we are interested in. We can store the string in a variable, let's call it `query`. Call the method in this way:\n",
    "\n",
    "    cur.execute(query)\n",
    "\n",
    "The table we want to query is not very good for visualization, so we are going to SELECT only the column DateTime, that contains date and time of the measurements. We will LIMIT the number of rows retrieved by the query to 10.\n",
    "\n",
    "###### b) Execute a query. \n",
    "Select the first 10 rows from the DateTime column. \n",
    "\n",
    "Hint: if you want to check the name of the tables in your database, go back to the interactive command line and use this code:\n",
    "    \n",
    "    .tables"
   ]
  },
  {
   "cell_type": "code",
   "execution_count": 11,
   "metadata": {
    "collapsed": true
   },
   "outputs": [
    {
     "data": {
      "text/plain": [
       "<sqlite3.Cursor at 0x11d233dc0>"
      ]
     },
     "execution_count": 11,
     "metadata": {},
     "output_type": "execute_result"
    }
   ],
   "source": [
    "# Code Cell 7\n",
    "# complete the query with the field you want to select, the table you want to select the field from,\n",
    "# and the field you want your results to be ordered by\n",
    "query = \"SELECT DateTime FROM LA_wifi_speed_UK ORDER BY DateTime LIMIT 10;\"\n",
    "# Execute the query\n",
    "cur.execute(query)"
   ]
  },
  {
   "cell_type": "markdown",
   "metadata": {},
   "source": [
    "The query result is stored in `cur`. We need to iterate over it in order to visualize the result."
   ]
  },
  {
   "cell_type": "code",
   "execution_count": 12,
   "metadata": {
    "collapsed": true
   },
   "outputs": [
    {
     "name": "stdout",
     "output_type": "stream",
     "text": [
      "('2016-11-23 00:00:00.000000',)\n",
      "('2016-11-23 00:30:00.000000',)\n",
      "('2016-11-23 01:00:00.000000',)\n",
      "('2016-11-23 01:30:00.000000',)\n",
      "('2016-11-23 02:00:00.000000',)\n",
      "('2016-11-23 02:30:00.000000',)\n",
      "('2016-11-23 03:00:00.000000',)\n",
      "('2016-11-23 03:30:00.000000',)\n",
      "('2016-11-23 04:00:00.000000',)\n",
      "('2016-11-23 04:30:00.000000',)\n"
     ]
    }
   ],
   "source": [
    "# Code Cell 8\n",
    "for row in cur:\n",
    "    print(row) "
   ]
  },
  {
   "cell_type": "markdown",
   "metadata": {},
   "source": [
    "**Note**: We need to sort the table containing the measurement according to the column DateTime. This is because SQL does not have an intrinsic ordering of the rows, and we are dealing with a time series, that without the correct ordering, don't make any sense. Selecting a random sample of rows would remove the temporal component:\n"
   ]
  },
  {
   "cell_type": "code",
   "execution_count": 13,
   "metadata": {
    "collapsed": true
   },
   "outputs": [
    {
     "name": "stdout",
     "output_type": "stream",
     "text": [
      "('2016-11-25 00:00:00.000000',)\n",
      "('2016-12-12 06:30:00.000000',)\n",
      "('2016-11-27 12:00:00.000000',)\n",
      "('2016-12-02 11:30:00.000000',)\n",
      "('2016-11-24 05:30:00.000000',)\n",
      "('2016-12-05 23:00:00.000000',)\n",
      "('2016-11-23 22:30:00.000000',)\n",
      "('2016-11-25 17:30:00.000000',)\n",
      "('2016-11-28 16:00:00.000000',)\n",
      "('2016-11-30 18:00:00.000000',)\n"
     ]
    }
   ],
   "source": [
    "# Code Cell 9\n",
    "query = 'SELECT DateTime FROM LA_wifi_speed_UK ORDER BY RANDOM() LIMIT 10'\n",
    "cur.execute(query)\n",
    "\n",
    "for row in cur:\n",
    "    print(row) "
   ]
  },
  {
   "cell_type": "markdown",
   "metadata": {},
   "source": [
    "#### Step 2: Focus on a portion of the data.\n",
    "\n",
    "What are the names of the 900+ columns? It is possible to automatically retrieve them and store them in a list. It will come in handy for different things later.\n",
    "\n",
    "First of all, we need to execute a query over all the columns. In this case, it is not important the number of rows the query returns, so we will limit it to 1. "
   ]
  },
  {
   "cell_type": "code",
   "execution_count": 67,
   "metadata": {
    "collapsed": true
   },
   "outputs": [
    {
     "data": {
      "text/plain": [
       "<sqlite3.Cursor at 0x11d233dc0>"
      ]
     },
     "execution_count": 67,
     "metadata": {},
     "output_type": "execute_result"
    }
   ],
   "source": [
    "# Code Cell 10\n",
    "# we need to have a cursor pointing to a table for this operation\n",
    "query = 'SELECT * FROM LA_wifi_speed_UK LIMIT 1'\n",
    "cur.execute(query)"
   ]
  },
  {
   "cell_type": "markdown",
   "metadata": {},
   "source": [
    "The name of the columns of the table are stored in the field `description` of the cursor."
   ]
  },
  {
   "cell_type": "code",
   "execution_count": 68,
   "metadata": {
    "collapsed": true
   },
   "outputs": [
    {
     "data": {
      "text/plain": [
       "(('E07000223_p', None, None, None, None, None, None),\n",
       " ('E07000026_p', None, None, None, None, None, None),\n",
       " ('E07000032_p', None, None, None, None, None, None),\n",
       " ('E07000224_p', None, None, None, None, None, None),\n",
       " ('E07000170_p', None, None, None, None, None, None),\n",
       " ('E07000105_p', None, None, None, None, None, None),\n",
       " ('E07000004_p', None, None, None, None, None, None),\n",
       " ('E07000200_p', None, None, None, None, None, None),\n",
       " ('E09000002_p', None, None, None, None, None, None),\n",
       " ('E09000003_p', None, None, None, None, None, None))"
      ]
     },
     "execution_count": 68,
     "metadata": {},
     "output_type": "execute_result"
    }
   ],
   "source": [
    "# Code Cell 11\n",
    "#visualizing the first 10 rows of the field description\n",
    "cur.description[:10]"
   ]
  },
  {
   "cell_type": "markdown",
   "metadata": {},
   "source": [
    "We can loop over the members of this field and put the names of the columns in a list (a handy data structure in this case).\n",
    "In Python, it is possible to generate lists as the output of a for loop. This concept is called list comprehension and it is just another name for a longer for loop. Each element of the output list is the operation you would do inside the for loop, while iterating over a certain set.  "
   ]
  },
  {
   "cell_type": "code",
   "execution_count": 69,
   "metadata": {
    "collapsed": true
   },
   "outputs": [
    {
     "data": {
      "text/plain": [
       "['E07000026_p',\n",
       " 'E07000032_p',\n",
       " 'E07000224_p',\n",
       " 'E07000170_p',\n",
       " 'E07000105_p',\n",
       " 'E07000004_p',\n",
       " 'E07000200_p',\n",
       " 'E09000002_p',\n",
       " 'E09000003_p',\n",
       " 'E08000016_p',\n",
       " 'E07000027_p',\n",
       " 'E07000066_p',\n",
       " 'E07000084_p',\n",
       " 'E07000171_p',\n",
       " 'E06000022_p',\n",
       " 'E06000055_p',\n",
       " 'E09000004_p',\n",
       " 'E08000025_p',\n",
       " 'E07000129_p',\n",
       " 'E06000008_p',\n",
       " 'E06000009_p',\n",
       " 'E07000033_p',\n",
       " 'E08000001_p',\n",
       " 'E07000136_p',\n",
       " 'E06000028_p',\n",
       " 'E06000036_p',\n",
       " 'E08000032_p',\n",
       " 'E07000067_p',\n",
       " 'E07000143_p',\n",
       " 'E09000005_p',\n",
       " 'E07000068_p',\n",
       " 'E06000043_p',\n",
       " 'E06000023_p',\n",
       " 'E07000144_p',\n",
       " 'E09000006_p',\n",
       " 'E07000234_p',\n",
       " 'E07000095_p',\n",
       " 'E07000172_p',\n",
       " 'E07000117_p',\n",
       " 'E08000002_p',\n",
       " 'E08000033_p',\n",
       " 'E07000008_p',\n",
       " 'E09000007_p',\n",
       " 'E07000192_p',\n",
       " 'E07000106_p',\n",
       " 'E07000028_p',\n",
       " 'E07000069_p',\n",
       " 'E06000056_p',\n",
       " 'E07000130_p',\n",
       " 'E07000070_p',\n",
       " 'E07000078_p',\n",
       " 'E07000177_p',\n",
       " 'E06000049_p',\n",
       " 'E06000050_p',\n",
       " 'E07000034_p',\n",
       " 'E07000225_p',\n",
       " 'E07000005_p',\n",
       " 'E07000118_p',\n",
       " 'E07000048_p',\n",
       " 'E09000001_p',\n",
       " 'E07000071_p',\n",
       " 'E07000029_p',\n",
       " 'E07000150_p',\n",
       " 'E06000052_p',\n",
       " 'E07000079_p',\n",
       " 'E06000047_p',\n",
       " 'E08000026_p',\n",
       " 'E07000163_p',\n",
       " 'E07000226_p',\n",
       " 'E09000008_p',\n",
       " 'E07000096_p',\n",
       " 'E06000005_p',\n",
       " 'E07000107_p',\n",
       " 'E07000151_p',\n",
       " 'E06000015_p',\n",
       " 'E07000035_p',\n",
       " 'E08000017_p',\n",
       " 'E07000108_p',\n",
       " 'E08000027_p',\n",
       " 'E09000009_p',\n",
       " 'E07000009_p',\n",
       " 'E07000040_p',\n",
       " 'E07000049_p',\n",
       " 'E07000085_p',\n",
       " 'E07000097_p',\n",
       " 'E07000137_p',\n",
       " 'E07000152_p',\n",
       " 'E06000011_p',\n",
       " 'E07000193_p',\n",
       " 'E07000061_p',\n",
       " 'E07000086_p',\n",
       " 'E07000030_p',\n",
       " 'E07000207_p',\n",
       " 'E09000010_p',\n",
       " 'E07000072_p',\n",
       " 'E07000208_p',\n",
       " 'E07000036_p',\n",
       " 'E07000041_p',\n",
       " 'E07000087_p',\n",
       " 'E07000010_p',\n",
       " 'E07000201_p',\n",
       " 'E07000080_p',\n",
       " 'E07000119_p',\n",
       " 'E08000020_p',\n",
       " 'E07000173_p',\n",
       " 'E07000081_p',\n",
       " 'E07000088_p',\n",
       " 'E07000109_p',\n",
       " 'E07000145_p',\n",
       " 'E09000011_p',\n",
       " 'E07000209_p',\n",
       " 'E09000012_p',\n",
       " 'E06000006_p',\n",
       " 'E07000164_p',\n",
       " 'E09000013_p',\n",
       " 'E07000131_p',\n",
       " 'E09000014_p',\n",
       " 'E07000073_p',\n",
       " 'E07000165_p',\n",
       " 'E09000015_p',\n",
       " 'E07000089_p',\n",
       " 'E06000001_p',\n",
       " 'E07000062_p',\n",
       " 'E07000090_p',\n",
       " 'E09000016_p',\n",
       " 'E06000019_p',\n",
       " 'E07000098_p',\n",
       " 'E07000037_p',\n",
       " 'E09000017_p',\n",
       " 'E07000132_p',\n",
       " 'E07000227_p',\n",
       " 'E09000018_p',\n",
       " 'E07000011_p',\n",
       " 'E07000120_p',\n",
       " 'E07000202_p',\n",
       " 'E06000046_p',\n",
       " 'E06000053_p',\n",
       " 'E09000019_p',\n",
       " 'E09000020_p',\n",
       " 'E07000153_p',\n",
       " 'E07000146_p',\n",
       " 'E06000010_p',\n",
       " 'E09000021_p',\n",
       " 'E08000034_p',\n",
       " 'E08000011_p',\n",
       " 'E09000022_p',\n",
       " 'E07000121_p',\n",
       " 'E08000035_p',\n",
       " 'E06000016_p',\n",
       " 'E07000063_p',\n",
       " 'E09000023_p',\n",
       " 'E07000194_p',\n",
       " 'E07000138_p',\n",
       " 'E08000012_p',\n",
       " 'E06000032_p',\n",
       " 'E07000110_p',\n",
       " 'E07000074_p',\n",
       " 'E07000235_p',\n",
       " 'E08000003_p',\n",
       " 'E07000174_p',\n",
       " 'E06000035_p',\n",
       " 'E07000133_p',\n",
       " 'E07000187_p',\n",
       " 'E09000024_p',\n",
       " 'E07000042_p',\n",
       " 'E07000203_p',\n",
       " 'E07000228_p',\n",
       " 'E06000002_p',\n",
       " 'E06000042_p',\n",
       " 'E07000210_p',\n",
       " 'E07000091_p',\n",
       " 'E07000175_p',\n",
       " 'E08000021_p',\n",
       " 'E07000195_p',\n",
       " 'E09000025_p',\n",
       " 'E07000043_p',\n",
       " 'E07000050_p',\n",
       " 'E07000038_p',\n",
       " 'E06000012_p',\n",
       " 'E07000099_p',\n",
       " 'E07000139_p',\n",
       " 'E06000013_p',\n",
       " 'E07000147_p',\n",
       " 'E06000024_p',\n",
       " 'E08000022_p',\n",
       " 'E07000218_p',\n",
       " 'E07000134_p',\n",
       " 'E07000154_p',\n",
       " 'E06000048_p',\n",
       " 'E07000148_p',\n",
       " 'E06000018_p',\n",
       " 'E07000219_p',\n",
       " 'E07000135_p',\n",
       " 'E08000004_p',\n",
       " 'E07000178_p',\n",
       " 'E07000122_p',\n",
       " 'E06000031_p',\n",
       " 'E06000026_p',\n",
       " 'E06000029_p',\n",
       " 'E06000044_p',\n",
       " 'E07000123_p',\n",
       " 'E07000051_p',\n",
       " 'E06000038_p',\n",
       " 'E09000026_p',\n",
       " 'E06000003_p',\n",
       " 'E07000236_p',\n",
       " 'E07000211_p',\n",
       " 'E07000124_p',\n",
       " 'E09000027_p',\n",
       " 'E07000166_p',\n",
       " 'E08000005_p',\n",
       " 'E07000075_p',\n",
       " 'E07000125_p',\n",
       " 'E07000064_p',\n",
       " 'E08000018_p',\n",
       " 'E07000220_p',\n",
       " 'E07000212_p',\n",
       " 'E07000176_p',\n",
       " 'E07000092_p',\n",
       " 'E06000017_p',\n",
       " 'E07000167_p',\n",
       " 'E08000006_p',\n",
       " 'E08000028_p',\n",
       " 'E07000168_p',\n",
       " 'E07000188_p',\n",
       " 'E08000014_p',\n",
       " 'E07000169_p',\n",
       " 'E07000111_p',\n",
       " 'E08000019_p',\n",
       " 'E07000112_p',\n",
       " 'E06000051_p',\n",
       " 'E06000039_p',\n",
       " 'E08000029_p',\n",
       " 'E07000006_p',\n",
       " 'E07000012_p',\n",
       " 'E07000039_p',\n",
       " 'E06000025_p',\n",
       " 'E07000044_p',\n",
       " 'E07000140_p',\n",
       " 'E07000141_p',\n",
       " 'E07000031_p',\n",
       " 'E07000149_p',\n",
       " 'E07000155_p',\n",
       " 'E07000179_p',\n",
       " 'E07000126_p',\n",
       " 'E07000189_p',\n",
       " 'E07000196_p',\n",
       " 'E08000023_p',\n",
       " 'E06000045_p',\n",
       " 'E06000033_p',\n",
       " 'E09000028_p',\n",
       " 'E07000213_p',\n",
       " 'E07000100_p',\n",
       " 'E07000204_p',\n",
       " 'E08000013_p',\n",
       " 'E07000197_p',\n",
       " 'E07000198_p',\n",
       " 'E07000101_p',\n",
       " 'E08000007_p',\n",
       " 'E06000004_p',\n",
       " 'E06000021_p',\n",
       " 'E07000221_p',\n",
       " 'E07000082_p',\n",
       " 'E07000205_p',\n",
       " 'E08000024_p',\n",
       " 'E07000214_p',\n",
       " 'E09000029_p',\n",
       " 'E07000113_p',\n",
       " 'E06000030_p',\n",
       " 'E08000008_p',\n",
       " 'E07000199_p',\n",
       " 'E07000215_p',\n",
       " 'E07000190_p',\n",
       " 'E07000045_p',\n",
       " 'E06000020_p',\n",
       " 'E07000076_p',\n",
       " 'E07000093_p',\n",
       " 'E07000083_p',\n",
       " 'E07000114_p',\n",
       " 'E07000102_p',\n",
       " 'E06000034_p',\n",
       " 'E07000115_p',\n",
       " 'E06000027_p',\n",
       " 'E07000046_p',\n",
       " 'E09000030_p',\n",
       " 'E08000009_p',\n",
       " 'E07000116_p',\n",
       " 'E07000077_p',\n",
       " 'E07000180_p',\n",
       " 'E08000036_p',\n",
       " 'E08000030_p',\n",
       " 'E09000031_p',\n",
       " 'E09000032_p',\n",
       " 'E06000007_p',\n",
       " 'E07000222_p',\n",
       " 'E07000103_p',\n",
       " 'E07000206_p',\n",
       " 'E07000216_p',\n",
       " 'E07000065_p',\n",
       " 'E07000156_p',\n",
       " 'E07000104_p',\n",
       " 'E06000037_p',\n",
       " 'E07000047_p',\n",
       " 'E07000052_p',\n",
       " 'E07000127_p',\n",
       " 'E07000142_p',\n",
       " 'E07000181_p',\n",
       " 'E07000191_p',\n",
       " 'E09000033_p',\n",
       " 'E07000053_p',\n",
       " 'E08000010_p',\n",
       " 'E06000054_p',\n",
       " 'E07000094_p',\n",
       " 'E06000040_p',\n",
       " 'E08000015_p',\n",
       " 'E07000217_p',\n",
       " 'E06000041_p',\n",
       " 'E08000031_p',\n",
       " 'E07000237_p',\n",
       " 'E07000229_p',\n",
       " 'E07000238_p',\n",
       " 'E07000007_p',\n",
       " 'E07000128_p',\n",
       " 'E07000239_p',\n",
       " 'E06000014_p',\n",
       " 'E07000223_u',\n",
       " 'E07000026_u',\n",
       " 'E07000032_u',\n",
       " 'E07000224_u',\n",
       " 'E07000170_u',\n",
       " 'E07000105_u',\n",
       " 'E07000004_u',\n",
       " 'E07000200_u',\n",
       " 'E09000002_u',\n",
       " 'E09000003_u',\n",
       " 'E08000016_u',\n",
       " 'E07000027_u',\n",
       " 'E07000066_u',\n",
       " 'E07000084_u',\n",
       " 'E07000171_u',\n",
       " 'E06000022_u',\n",
       " 'E06000055_u',\n",
       " 'E09000004_u',\n",
       " 'E08000025_u',\n",
       " 'E07000129_u',\n",
       " 'E06000008_u',\n",
       " 'E06000009_u',\n",
       " 'E07000033_u',\n",
       " 'E08000001_u',\n",
       " 'E07000136_u',\n",
       " 'E06000028_u',\n",
       " 'E06000036_u',\n",
       " 'E08000032_u',\n",
       " 'E07000067_u',\n",
       " 'E07000143_u',\n",
       " 'E09000005_u',\n",
       " 'E07000068_u',\n",
       " 'E06000043_u',\n",
       " 'E06000023_u',\n",
       " 'E07000144_u',\n",
       " 'E09000006_u',\n",
       " 'E07000234_u',\n",
       " 'E07000095_u',\n",
       " 'E07000172_u',\n",
       " 'E07000117_u',\n",
       " 'E08000002_u',\n",
       " 'E08000033_u',\n",
       " 'E07000008_u',\n",
       " 'E09000007_u',\n",
       " 'E07000192_u',\n",
       " 'E07000106_u',\n",
       " 'E07000028_u',\n",
       " 'E07000069_u',\n",
       " 'E06000056_u',\n",
       " 'E07000130_u',\n",
       " 'E07000070_u',\n",
       " 'E07000078_u',\n",
       " 'E07000177_u',\n",
       " 'E06000049_u',\n",
       " 'E06000050_u',\n",
       " 'E07000034_u',\n",
       " 'E07000225_u',\n",
       " 'E07000005_u',\n",
       " 'E07000118_u',\n",
       " 'E07000048_u',\n",
       " 'E09000001_u',\n",
       " 'E07000071_u',\n",
       " 'E07000029_u',\n",
       " 'E07000150_u',\n",
       " 'E06000052_u',\n",
       " 'E07000079_u',\n",
       " 'E06000047_u',\n",
       " 'E08000026_u',\n",
       " 'E07000163_u',\n",
       " 'E07000226_u',\n",
       " 'E09000008_u',\n",
       " 'E07000096_u',\n",
       " 'E06000005_u',\n",
       " 'E07000107_u',\n",
       " 'E07000151_u',\n",
       " 'E06000015_u',\n",
       " 'E07000035_u',\n",
       " 'E08000017_u',\n",
       " 'E07000108_u',\n",
       " 'E08000027_u',\n",
       " 'E09000009_u',\n",
       " 'E07000009_u',\n",
       " 'E07000040_u',\n",
       " 'E07000049_u',\n",
       " 'E07000085_u',\n",
       " 'E07000097_u',\n",
       " 'E07000137_u',\n",
       " 'E07000152_u',\n",
       " 'E06000011_u',\n",
       " 'E07000193_u',\n",
       " 'E07000061_u',\n",
       " 'E07000086_u',\n",
       " 'E07000030_u',\n",
       " 'E07000207_u',\n",
       " 'E09000010_u',\n",
       " 'E07000072_u',\n",
       " 'E07000208_u',\n",
       " 'E07000036_u',\n",
       " 'E07000041_u',\n",
       " 'E07000087_u',\n",
       " 'E07000010_u',\n",
       " 'E07000201_u',\n",
       " 'E07000080_u',\n",
       " 'E07000119_u',\n",
       " 'E08000020_u',\n",
       " 'E07000173_u',\n",
       " 'E07000081_u',\n",
       " 'E07000088_u',\n",
       " 'E07000109_u',\n",
       " 'E07000145_u',\n",
       " 'E09000011_u',\n",
       " 'E07000209_u',\n",
       " 'E09000012_u',\n",
       " 'E06000006_u',\n",
       " 'E07000164_u',\n",
       " 'E09000013_u',\n",
       " 'E07000131_u',\n",
       " 'E09000014_u',\n",
       " 'E07000073_u',\n",
       " 'E07000165_u',\n",
       " 'E09000015_u',\n",
       " 'E07000089_u',\n",
       " 'E06000001_u',\n",
       " 'E07000062_u',\n",
       " 'E07000090_u',\n",
       " 'E09000016_u',\n",
       " 'E06000019_u',\n",
       " 'E07000098_u',\n",
       " 'E07000037_u',\n",
       " 'E09000017_u',\n",
       " 'E07000132_u',\n",
       " 'E07000227_u',\n",
       " 'E09000018_u',\n",
       " 'E07000011_u',\n",
       " 'E07000120_u',\n",
       " 'E07000202_u',\n",
       " 'E06000046_u',\n",
       " 'E06000053_u',\n",
       " 'E09000019_u',\n",
       " 'E09000020_u',\n",
       " 'E07000153_u',\n",
       " 'E07000146_u',\n",
       " 'E06000010_u',\n",
       " 'E09000021_u',\n",
       " 'E08000034_u',\n",
       " 'E08000011_u',\n",
       " 'E09000022_u',\n",
       " 'E07000121_u',\n",
       " 'E08000035_u',\n",
       " 'E06000016_u',\n",
       " 'E07000063_u',\n",
       " 'E09000023_u',\n",
       " 'E07000194_u',\n",
       " 'E07000138_u',\n",
       " 'E08000012_u',\n",
       " 'E06000032_u',\n",
       " 'E07000110_u',\n",
       " 'E07000074_u',\n",
       " 'E07000235_u',\n",
       " 'E08000003_u',\n",
       " 'E07000174_u',\n",
       " 'E06000035_u',\n",
       " 'E07000133_u',\n",
       " 'E07000187_u',\n",
       " 'E09000024_u',\n",
       " 'E07000042_u',\n",
       " 'E07000203_u',\n",
       " 'E07000228_u',\n",
       " 'E06000002_u',\n",
       " 'E06000042_u',\n",
       " 'E07000210_u',\n",
       " 'E07000091_u',\n",
       " 'E07000175_u',\n",
       " 'E08000021_u',\n",
       " 'E07000195_u',\n",
       " 'E09000025_u',\n",
       " 'E07000043_u',\n",
       " 'E07000050_u',\n",
       " 'E07000038_u',\n",
       " 'E06000012_u',\n",
       " 'E07000099_u',\n",
       " 'E07000139_u',\n",
       " 'E06000013_u',\n",
       " 'E07000147_u',\n",
       " 'E06000024_u',\n",
       " 'E08000022_u',\n",
       " 'E07000218_u',\n",
       " 'E07000134_u',\n",
       " 'E07000154_u',\n",
       " 'E06000048_u',\n",
       " 'E07000148_u',\n",
       " 'E06000018_u',\n",
       " 'E07000219_u',\n",
       " 'E07000135_u',\n",
       " 'E08000004_u',\n",
       " 'E07000178_u',\n",
       " 'E07000122_u',\n",
       " 'E06000031_u',\n",
       " 'E06000026_u',\n",
       " 'E06000029_u',\n",
       " 'E06000044_u',\n",
       " 'E07000123_u',\n",
       " 'E07000051_u',\n",
       " 'E06000038_u',\n",
       " 'E09000026_u',\n",
       " 'E06000003_u',\n",
       " 'E07000236_u',\n",
       " 'E07000211_u',\n",
       " 'E07000124_u',\n",
       " 'E09000027_u',\n",
       " 'E07000166_u',\n",
       " 'E08000005_u',\n",
       " 'E07000075_u',\n",
       " 'E07000125_u',\n",
       " 'E07000064_u',\n",
       " 'E08000018_u',\n",
       " 'E07000220_u',\n",
       " 'E07000212_u',\n",
       " 'E07000176_u',\n",
       " 'E07000092_u',\n",
       " 'E06000017_u',\n",
       " 'E07000167_u',\n",
       " 'E08000006_u',\n",
       " 'E08000028_u',\n",
       " 'E07000168_u',\n",
       " 'E07000188_u',\n",
       " 'E08000014_u',\n",
       " 'E07000169_u',\n",
       " 'E07000111_u',\n",
       " 'E08000019_u',\n",
       " 'E07000112_u',\n",
       " 'E06000051_u',\n",
       " 'E06000039_u',\n",
       " 'E08000029_u',\n",
       " 'E07000006_u',\n",
       " 'E07000012_u',\n",
       " 'E07000039_u',\n",
       " 'E06000025_u',\n",
       " 'E07000044_u',\n",
       " 'E07000140_u',\n",
       " 'E07000141_u',\n",
       " 'E07000031_u',\n",
       " 'E07000149_u',\n",
       " 'E07000155_u',\n",
       " 'E07000179_u',\n",
       " 'E07000126_u',\n",
       " 'E07000189_u',\n",
       " 'E07000196_u',\n",
       " 'E08000023_u',\n",
       " 'E06000045_u',\n",
       " 'E06000033_u',\n",
       " 'E09000028_u',\n",
       " 'E07000213_u',\n",
       " 'E07000100_u',\n",
       " 'E07000204_u',\n",
       " 'E08000013_u',\n",
       " 'E07000197_u',\n",
       " 'E07000198_u',\n",
       " 'E07000101_u',\n",
       " 'E08000007_u',\n",
       " 'E06000004_u',\n",
       " 'E06000021_u',\n",
       " 'E07000221_u',\n",
       " 'E07000082_u',\n",
       " 'E07000205_u',\n",
       " 'E08000024_u',\n",
       " 'E07000214_u',\n",
       " 'E09000029_u',\n",
       " 'E07000113_u',\n",
       " 'E06000030_u',\n",
       " 'E08000008_u',\n",
       " 'E07000199_u',\n",
       " 'E07000215_u',\n",
       " 'E07000190_u',\n",
       " 'E07000045_u',\n",
       " 'E06000020_u',\n",
       " 'E07000076_u',\n",
       " 'E07000093_u',\n",
       " 'E07000083_u',\n",
       " 'E07000114_u',\n",
       " 'E07000102_u',\n",
       " 'E06000034_u',\n",
       " 'E07000115_u',\n",
       " 'E06000027_u',\n",
       " 'E07000046_u',\n",
       " 'E09000030_u',\n",
       " 'E08000009_u',\n",
       " 'E07000116_u',\n",
       " 'E07000077_u',\n",
       " 'E07000180_u',\n",
       " 'E08000036_u',\n",
       " 'E08000030_u',\n",
       " 'E09000031_u',\n",
       " 'E09000032_u',\n",
       " 'E06000007_u',\n",
       " 'E07000222_u',\n",
       " 'E07000103_u',\n",
       " 'E07000206_u',\n",
       " 'E07000216_u',\n",
       " 'E07000065_u',\n",
       " 'E07000156_u',\n",
       " 'E07000104_u',\n",
       " 'E06000037_u',\n",
       " 'E07000047_u',\n",
       " 'E07000052_u',\n",
       " 'E07000127_u',\n",
       " 'E07000142_u',\n",
       " 'E07000181_u',\n",
       " 'E07000191_u',\n",
       " 'E09000033_u',\n",
       " 'E07000053_u',\n",
       " 'E08000010_u',\n",
       " 'E06000054_u',\n",
       " 'E07000094_u',\n",
       " 'E06000040_u',\n",
       " 'E08000015_u',\n",
       " 'E07000217_u',\n",
       " 'E06000041_u',\n",
       " 'E08000031_u',\n",
       " 'E07000237_u',\n",
       " 'E07000229_u',\n",
       " 'E07000238_u',\n",
       " 'E07000007_u',\n",
       " 'E07000128_u',\n",
       " 'E07000239_u',\n",
       " 'E06000014_u',\n",
       " 'E07000223_d',\n",
       " 'E07000026_d',\n",
       " 'E07000032_d',\n",
       " 'E07000224_d',\n",
       " 'E07000170_d',\n",
       " 'E07000105_d',\n",
       " 'E07000004_d',\n",
       " 'E07000200_d',\n",
       " 'E09000002_d',\n",
       " 'E09000003_d',\n",
       " 'E08000016_d',\n",
       " 'E07000027_d',\n",
       " 'E07000066_d',\n",
       " 'E07000084_d',\n",
       " 'E07000171_d',\n",
       " 'E06000022_d',\n",
       " 'E06000055_d',\n",
       " 'E09000004_d',\n",
       " 'E08000025_d',\n",
       " 'E07000129_d',\n",
       " 'E06000008_d',\n",
       " 'E06000009_d',\n",
       " 'E07000033_d',\n",
       " 'E08000001_d',\n",
       " 'E07000136_d',\n",
       " 'E06000028_d',\n",
       " 'E06000036_d',\n",
       " 'E08000032_d',\n",
       " 'E07000067_d',\n",
       " 'E07000143_d',\n",
       " 'E09000005_d',\n",
       " 'E07000068_d',\n",
       " 'E06000043_d',\n",
       " 'E06000023_d',\n",
       " 'E07000144_d',\n",
       " 'E09000006_d',\n",
       " 'E07000234_d',\n",
       " 'E07000095_d',\n",
       " 'E07000172_d',\n",
       " 'E07000117_d',\n",
       " 'E08000002_d',\n",
       " 'E08000033_d',\n",
       " 'E07000008_d',\n",
       " 'E09000007_d',\n",
       " 'E07000192_d',\n",
       " 'E07000106_d',\n",
       " 'E07000028_d',\n",
       " 'E07000069_d',\n",
       " 'E06000056_d',\n",
       " 'E07000130_d',\n",
       " 'E07000070_d',\n",
       " 'E07000078_d',\n",
       " 'E07000177_d',\n",
       " 'E06000049_d',\n",
       " 'E06000050_d',\n",
       " 'E07000034_d',\n",
       " 'E07000225_d',\n",
       " 'E07000005_d',\n",
       " 'E07000118_d',\n",
       " 'E07000048_d',\n",
       " 'E09000001_d',\n",
       " 'E07000071_d',\n",
       " 'E07000029_d',\n",
       " 'E07000150_d',\n",
       " 'E06000052_d',\n",
       " 'E07000079_d',\n",
       " 'E06000047_d',\n",
       " 'E08000026_d',\n",
       " 'E07000163_d',\n",
       " 'E07000226_d',\n",
       " 'E09000008_d',\n",
       " 'E07000096_d',\n",
       " 'E06000005_d',\n",
       " 'E07000107_d',\n",
       " 'E07000151_d',\n",
       " 'E06000015_d',\n",
       " 'E07000035_d',\n",
       " 'E08000017_d',\n",
       " 'E07000108_d',\n",
       " 'E08000027_d',\n",
       " 'E09000009_d',\n",
       " 'E07000009_d',\n",
       " 'E07000040_d',\n",
       " 'E07000049_d',\n",
       " 'E07000085_d',\n",
       " 'E07000097_d',\n",
       " 'E07000137_d',\n",
       " 'E07000152_d',\n",
       " 'E06000011_d',\n",
       " 'E07000193_d',\n",
       " 'E07000061_d',\n",
       " 'E07000086_d',\n",
       " 'E07000030_d',\n",
       " 'E07000207_d',\n",
       " 'E09000010_d',\n",
       " 'E07000072_d',\n",
       " 'E07000208_d',\n",
       " 'E07000036_d',\n",
       " 'E07000041_d',\n",
       " 'E07000087_d',\n",
       " 'E07000010_d',\n",
       " 'E07000201_d',\n",
       " 'E07000080_d',\n",
       " 'E07000119_d',\n",
       " 'E08000020_d',\n",
       " 'E07000173_d',\n",
       " 'E07000081_d',\n",
       " 'E07000088_d',\n",
       " 'E07000109_d',\n",
       " 'E07000145_d',\n",
       " 'E09000011_d',\n",
       " 'E07000209_d',\n",
       " 'E09000012_d',\n",
       " 'E06000006_d',\n",
       " 'E07000164_d',\n",
       " 'E09000013_d',\n",
       " 'E07000131_d',\n",
       " 'E09000014_d',\n",
       " 'E07000073_d',\n",
       " 'E07000165_d',\n",
       " 'E09000015_d',\n",
       " 'E07000089_d',\n",
       " 'E06000001_d',\n",
       " 'E07000062_d',\n",
       " 'E07000090_d',\n",
       " 'E09000016_d',\n",
       " 'E06000019_d',\n",
       " 'E07000098_d',\n",
       " 'E07000037_d',\n",
       " 'E09000017_d',\n",
       " 'E07000132_d',\n",
       " 'E07000227_d',\n",
       " 'E09000018_d',\n",
       " 'E07000011_d',\n",
       " 'E07000120_d',\n",
       " 'E07000202_d',\n",
       " 'E06000046_d',\n",
       " 'E06000053_d',\n",
       " 'E09000019_d',\n",
       " 'E09000020_d',\n",
       " 'E07000153_d',\n",
       " 'E07000146_d',\n",
       " 'E06000010_d',\n",
       " 'E09000021_d',\n",
       " 'E08000034_d',\n",
       " 'E08000011_d',\n",
       " 'E09000022_d',\n",
       " 'E07000121_d',\n",
       " 'E08000035_d',\n",
       " 'E06000016_d',\n",
       " 'E07000063_d',\n",
       " 'E09000023_d',\n",
       " 'E07000194_d',\n",
       " 'E07000138_d',\n",
       " 'E08000012_d',\n",
       " 'E06000032_d',\n",
       " 'E07000110_d',\n",
       " 'E07000074_d',\n",
       " 'E07000235_d',\n",
       " 'E08000003_d',\n",
       " 'E07000174_d',\n",
       " 'E06000035_d',\n",
       " 'E07000133_d',\n",
       " 'E07000187_d',\n",
       " 'E09000024_d',\n",
       " 'E07000042_d',\n",
       " 'E07000203_d',\n",
       " 'E07000228_d',\n",
       " 'E06000002_d',\n",
       " 'E06000042_d',\n",
       " 'E07000210_d',\n",
       " 'E07000091_d',\n",
       " 'E07000175_d',\n",
       " 'E08000021_d',\n",
       " 'E07000195_d',\n",
       " 'E09000025_d',\n",
       " 'E07000043_d',\n",
       " 'E07000050_d',\n",
       " 'E07000038_d',\n",
       " 'E06000012_d',\n",
       " 'E07000099_d',\n",
       " 'E07000139_d',\n",
       " 'E06000013_d',\n",
       " 'E07000147_d',\n",
       " 'E06000024_d',\n",
       " 'E08000022_d',\n",
       " 'E07000218_d',\n",
       " 'E07000134_d',\n",
       " 'E07000154_d',\n",
       " 'E06000048_d',\n",
       " 'E07000148_d',\n",
       " 'E06000018_d',\n",
       " 'E07000219_d',\n",
       " 'E07000135_d',\n",
       " 'E08000004_d',\n",
       " 'E07000178_d',\n",
       " 'E07000122_d',\n",
       " 'E06000031_d',\n",
       " 'E06000026_d',\n",
       " 'E06000029_d',\n",
       " 'E06000044_d',\n",
       " 'E07000123_d',\n",
       " 'E07000051_d',\n",
       " 'E06000038_d',\n",
       " 'E09000026_d',\n",
       " 'E06000003_d',\n",
       " 'E07000236_d',\n",
       " 'E07000211_d',\n",
       " 'E07000124_d',\n",
       " 'E09000027_d',\n",
       " 'E07000166_d',\n",
       " 'E08000005_d',\n",
       " 'E07000075_d',\n",
       " 'E07000125_d',\n",
       " 'E07000064_d',\n",
       " 'E08000018_d',\n",
       " 'E07000220_d',\n",
       " 'E07000212_d',\n",
       " 'E07000176_d',\n",
       " 'E07000092_d',\n",
       " 'E06000017_d',\n",
       " 'E07000167_d',\n",
       " 'E08000006_d',\n",
       " 'E08000028_d',\n",
       " 'E07000168_d',\n",
       " 'E07000188_d',\n",
       " 'E08000014_d',\n",
       " 'E07000169_d',\n",
       " 'E07000111_d',\n",
       " 'E08000019_d',\n",
       " 'E07000112_d',\n",
       " 'E06000051_d',\n",
       " 'E06000039_d',\n",
       " 'E08000029_d',\n",
       " 'E07000006_d',\n",
       " 'E07000012_d',\n",
       " 'E07000039_d',\n",
       " 'E06000025_d',\n",
       " 'E07000044_d',\n",
       " 'E07000140_d',\n",
       " 'E07000141_d',\n",
       " 'E07000031_d',\n",
       " 'E07000149_d',\n",
       " 'E07000155_d',\n",
       " 'E07000179_d',\n",
       " 'E07000126_d',\n",
       " 'E07000189_d',\n",
       " 'E07000196_d',\n",
       " 'E08000023_d',\n",
       " 'E06000045_d',\n",
       " 'E06000033_d',\n",
       " 'E09000028_d',\n",
       " 'E07000213_d',\n",
       " 'E07000100_d',\n",
       " 'E07000204_d',\n",
       " 'E08000013_d',\n",
       " 'E07000197_d',\n",
       " 'E07000198_d',\n",
       " 'E07000101_d',\n",
       " 'E08000007_d',\n",
       " 'E06000004_d',\n",
       " 'E06000021_d',\n",
       " 'E07000221_d',\n",
       " 'E07000082_d',\n",
       " 'E07000205_d',\n",
       " 'E08000024_d',\n",
       " 'E07000214_d',\n",
       " 'E09000029_d',\n",
       " 'E07000113_d',\n",
       " 'E06000030_d',\n",
       " 'E08000008_d',\n",
       " 'E07000199_d',\n",
       " 'E07000215_d',\n",
       " 'E07000190_d',\n",
       " 'E07000045_d',\n",
       " 'E06000020_d',\n",
       " 'E07000076_d',\n",
       " 'E07000093_d',\n",
       " 'E07000083_d',\n",
       " 'E07000114_d',\n",
       " 'E07000102_d',\n",
       " 'E06000034_d',\n",
       " 'E07000115_d',\n",
       " 'E06000027_d',\n",
       " 'E07000046_d',\n",
       " 'E09000030_d',\n",
       " 'E08000009_d',\n",
       " 'E07000116_d',\n",
       " 'E07000077_d',\n",
       " 'E07000180_d',\n",
       " 'E08000036_d',\n",
       " 'E08000030_d',\n",
       " 'E09000031_d',\n",
       " 'E09000032_d',\n",
       " 'E06000007_d',\n",
       " 'E07000222_d',\n",
       " 'E07000103_d',\n",
       " 'E07000206_d',\n",
       " 'E07000216_d',\n",
       " 'E07000065_d',\n",
       " 'E07000156_d',\n",
       " 'E07000104_d',\n",
       " 'E06000037_d',\n",
       " 'E07000047_d',\n",
       " 'E07000052_d',\n",
       " 'E07000127_d',\n",
       " 'E07000142_d',\n",
       " 'E07000181_d',\n",
       " 'E07000191_d',\n",
       " 'E09000033_d',\n",
       " 'E07000053_d',\n",
       " 'E08000010_d',\n",
       " 'E06000054_d',\n",
       " 'E07000094_d',\n",
       " 'E06000040_d',\n",
       " 'E08000015_d',\n",
       " 'E07000217_d',\n",
       " 'E06000041_d',\n",
       " 'E08000031_d',\n",
       " 'E07000237_d',\n",
       " 'E07000229_d',\n",
       " 'E07000238_d',\n",
       " 'E07000007_d',\n",
       " 'E07000128_d',\n",
       " 'E07000239_d',\n",
       " 'E06000014_d',\n",
       " 'DateTime']"
      ]
     },
     "execution_count": 69,
     "metadata": {},
     "output_type": "execute_result"
    }
   ],
   "source": [
    "# Code Cell 12\n",
    "# loop over the header and store them in a list\n",
    "columns = [member[0] for member in cur.description]\n",
    "# ignore index column\n",
    "columns = columns[1:]\n",
    "columns"
   ]
  },
  {
   "cell_type": "markdown",
   "metadata": {},
   "source": [
    "The columns contain the measurements of the three speeds for each geographical area. They are in this form: \n",
    "\n",
    "`<area name>_<suffix>`, \n",
    "\n",
    "Suffix is `p` for ping, `u` for upload and `d` for download. \n",
    "\n",
    "We need to get rid of the suffixes, since we are interested in the names of the area, and at the moment each name is repeated three times. We will use the name of the areas to visualize the various measurements and to generate a new table later in the lab.\n",
    "\n",
    "We can replace the final part of the string with an empty character. To do so, we can use the method `replace()` (see string documentation, https://docs.python.org/2/library/string.html).\n",
    "This method takes as input the part of the string to be replaced and the new piece of string to replace. For instance, to remove the characters `e` and `s` from the string `'chestnut'`, use this code:\n",
    "    \n",
    "    'chestnut'.replace('es', '')\n",
    "\n",
    "###### a) Get area names.\n",
    "Use list comprehension to loop over the list containing the names of the columns of the table and remove the suffixes \"_p\", \"_d\", and \"_u\"."
   ]
  },
  {
   "cell_type": "code",
   "execution_count": 70,
   "metadata": {
    "collapsed": true
   },
   "outputs": [],
   "source": [
    "# Code Cell 13\n",
    "# remove suffix '_p'\n",
    "columns = [c.replace('_p', '') for c in columns]\n",
    "# remove suffix '_d'\n",
    "columns = [c.replace('_d', '') for c in columns]\n",
    "# remove suffix '_u'\n",
    "columns = [c.replace('_u', '') for c in columns]\n",
    "\n",
    "# this operation is to remove duplicates\n",
    "columns = list(set(columns))"
   ]
  },
  {
   "cell_type": "code",
   "execution_count": 71,
   "metadata": {
    "collapsed": true
   },
   "outputs": [
    {
     "data": {
      "text/plain": [
       "['E07000118',\n",
       " 'E06000038',\n",
       " 'E06000051',\n",
       " 'E07000154',\n",
       " 'E06000025',\n",
       " 'E07000049',\n",
       " 'E08000008',\n",
       " 'E06000031',\n",
       " 'E07000225',\n",
       " 'E07000011']"
      ]
     },
     "execution_count": 71,
     "metadata": {},
     "output_type": "execute_result"
    }
   ],
   "source": [
    "# Code Cell 14\n",
    "# visualize the first 10 areas\n",
    "columns[:10]"
   ]
  },
  {
   "cell_type": "markdown",
   "metadata": {},
   "source": [
    "The best way to understand the data in the database is to visualize a part of it. In particular, we want to select the three statistics for an area. First of all, let's pick the first area we have in the dataset:"
   ]
  },
  {
   "cell_type": "code",
   "execution_count": 72,
   "metadata": {
    "collapsed": true
   },
   "outputs": [
    {
     "name": "stdout",
     "output_type": "stream",
     "text": [
      "E07000118\n"
     ]
    }
   ],
   "source": [
    "# Code Cell 15\n",
    "area = columns[0]\n",
    "print(area) "
   ]
  },
  {
   "cell_type": "markdown",
   "metadata": {},
   "source": [
    "Now we want to visualize the data relative to the area `E07000101`. We need to select the columns containing the three measurements for this area. To do so, we need to manipulate strings again. \n",
    "\n",
    "One way to format a string is:\n",
    "\n",
    "    'We are considering {} area and {} statistics'.format(1, 3)\n",
    "    \n",
    "    We are considering 1 area and 3 statistics\n",
    "\n",
    "We need to add the suffixes back in to get the correct column names. The first thing to do is to build a dictionary that associates the complete name of the measurement to the suffix. This is also going to be helpful to write a meaningful legend in the plot."
   ]
  },
  {
   "cell_type": "code",
   "execution_count": 73,
   "metadata": {
    "collapsed": true
   },
   "outputs": [
    {
     "name": "stdout",
     "output_type": "stream",
     "text": [
      "dict_keys(['_p', '_d', '_u'])\n",
      "dict_values(['ping', 'download', 'upload'])\n"
     ]
    }
   ],
   "source": [
    "# Code Cell 16\n",
    "suffix = {'_p':'ping', '_d':'download', '_u':'upload'}\n",
    "# we have the suffixes as the keys of the dictionary\n",
    "print(suffix.keys())\n",
    "\n",
    "# we have the complete names as the values of the dictionary\n",
    "print(suffix.values())"
   ]
  },
  {
   "cell_type": "markdown",
   "metadata": {},
   "source": [
    "Now the process is to loop over the keys of the dictionary, write and execute the query to select the measurement relative to our area and, plot them using this code:\n",
    "\n",
    "    plt.plot(cur.fetchall(), label=suffix[s])\n",
    "    \n",
    "The method `fetchall()` retrieves all the rows of the query result. The field `label` will be used to produce the legend of the plot. We can also add a title to the plot, using the method `title()`.\n",
    "\n",
    "###### b) Write the query to select the relevant columns."
   ]
  },
  {
   "cell_type": "code",
   "execution_count": 74,
   "metadata": {
    "collapsed": true
   },
   "outputs": [
    {
     "data": {
      "text/plain": [
       "Text(0.5, 1.0, 'E07000118')"
      ]
     },
     "execution_count": 74,
     "metadata": {},
     "output_type": "execute_result"
    },
    {
     "data": {
      "image/png": "[encoded data removed]",
      "text/plain": [
       "<Figure size 1000x800 with 1 Axes>"
      ]
     },
     "metadata": {},
     "output_type": "display_data"
    }
   ],
   "source": [
    "# Code Cell 17\n",
    "area = columns[0]\n",
    "plt.figure(figsize=(10, 8))\n",
    "\n",
    "# Plot each variable in suffix.keys() for each area\n",
    "for s in suffix.keys():\n",
    "    query = \"SELECT {}{} FROM LA_wifi_speed_UK ORDER BY DateTime\".format(area, s)\n",
    "    # Execute query\n",
    "    cur.execute(query)\n",
    "    plt.plot(cur.fetchall(), label=suffix[s])\n",
    "plt.legend()\n",
    "plt.title(area)"
   ]
  },
  {
   "cell_type": "markdown",
   "metadata": {},
   "source": [
    "## Part 3: Manipulate the data with Pandas\n",
    "\n",
    "The goal now is to calculate the average wifi speed for all the areas in the dataset. Pandas can help in storing and visualizing the data easily. \n",
    "\n",
    "#### Step 1: Convert all measurements to averages.\n",
    "For each Local Authority. we want to know what the average internet speed for ping, upload, and download was in the period of time over which our data was collected. Pandas dataframes are handy for this kind of operations.\n",
    "\n",
    "###### a) Create an empty dataframe with specific columns.\n",
    "\n",
    "     ['Area', 'Average_p', 'Average_d', 'Average_u']\n",
    "\n",
    "Note: the order of the new specific columns is aligned with the order of keys in the output of `suffix.keys()`, that is `['_p', '_d', '_u']`."
   ]
  },
  {
   "cell_type": "code",
   "execution_count": 145,
   "metadata": {
    "collapsed": true
   },
   "outputs": [
    {
     "data": {
      "text/html": [
       "<div>\n",
       "<style scoped>\n",
       "    .dataframe tbody tr th:only-of-type {\n",
       "        vertical-align: middle;\n",
       "    }\n",
       "\n",
       "    .dataframe tbody tr th {\n",
       "        vertical-align: top;\n",
       "    }\n",
       "\n",
       "    .dataframe thead th {\n",
       "        text-align: right;\n",
       "    }\n",
       "</style>\n",
       "<table border=\"1\" class=\"dataframe\">\n",
       "  <thead>\n",
       "    <tr style=\"text-align: right;\">\n",
       "      <th></th>\n",
       "      <th>Area</th>\n",
       "      <th>Average_p</th>\n",
       "      <th>Average_d</th>\n",
       "      <th>Average_u</th>\n",
       "    </tr>\n",
       "  </thead>\n",
       "  <tbody>\n",
       "  </tbody>\n",
       "</table>\n",
       "</div>"
      ],
      "text/plain": [
       "Empty DataFrame\n",
       "Columns: [Area, Average_p, Average_d, Average_u]\n",
       "Index: []"
      ]
     },
     "execution_count": 145,
     "metadata": {},
     "output_type": "execute_result"
    }
   ],
   "source": [
    "# Code Cell 18\n",
    "new_columns = [\"Area\", \"Average_p\", \"Average_d\", \"Average_u\"]\n",
    "df = pd.DataFrame(columns = new_columns)\n",
    "df"
   ]
  },
  {
   "cell_type": "markdown",
   "metadata": {},
   "source": [
    "An interesting metric is the average speed of ping, upload, and download for every area. To compute it, we need to loop over the columns, and for each area, for each statistic, we want to compute the average. We will then insert it in the empty dataframe we have just created. \n",
    "\n",
    "To do so, we will create a temporary list and populate it with the three metrics for each area. This is going to be the row we are going to insert in the dataframe. \n",
    "\n",
    "To refresh the commands:\n",
    "\n",
    "* Loop over the list containing the name of the areas.\n",
    "* Loop over the three suffixes (keys of dictionary `suffix`).\n",
    "* Write the query to select the average of the metric for an area, using string formatters.\n",
    "* Execute the query and fetch the result (method `fetchone()`).\n",
    "* Append the average to the temporary list (method `append()`).\n",
    "* At the end of the internal loop, insert the temporary list in the dataframe (method `append()`, parameter `ignore_index=True`).\n",
    "\n",
    "###### b) Compute the averages.\n",
    "Write the SQL query that computes the average of a column and store it in a temporary list. The list will be the new row appended to the dataframe. This will take about 1 minute on the RaPi."
   ]
  },
  {
   "cell_type": "code",
   "execution_count": 146,
   "metadata": {
    "collapsed": true
   },
   "outputs": [
    {
     "name": "stderr",
     "output_type": "stream",
     "text": [
      "/var/folders/tf/r205vcfn65q55z7zgzqv91fw0000gn/T/ipykernel_16461/873933165.py:15: FutureWarning: The behavior of DataFrame concatenation with empty or all-NA entries is deprecated. In a future version, this will no longer exclude empty or all-NA columns when determining the result dtypes. To retain the old behavior, exclude the relevant entries before the concat operation.\n",
      "  df = pd.concat([df, new_df], ignore_index = True)\n"
     ]
    },
    {
     "data": {
      "text/html": [
       "<div>\n",
       "<style scoped>\n",
       "    .dataframe tbody tr th:only-of-type {\n",
       "        vertical-align: middle;\n",
       "    }\n",
       "\n",
       "    .dataframe tbody tr th {\n",
       "        vertical-align: top;\n",
       "    }\n",
       "\n",
       "    .dataframe thead th {\n",
       "        text-align: right;\n",
       "    }\n",
       "</style>\n",
       "<table border=\"1\" class=\"dataframe\">\n",
       "  <thead>\n",
       "    <tr style=\"text-align: right;\">\n",
       "      <th></th>\n",
       "      <th>Area</th>\n",
       "      <th>Average_p</th>\n",
       "      <th>Average_d</th>\n",
       "      <th>Average_u</th>\n",
       "    </tr>\n",
       "  </thead>\n",
       "  <tbody>\n",
       "    <tr>\n",
       "      <th>0</th>\n",
       "      <td>E07000118</td>\n",
       "      <td>51.676694</td>\n",
       "      <td>21.187899</td>\n",
       "      <td>8.393854</td>\n",
       "    </tr>\n",
       "    <tr>\n",
       "      <th>1</th>\n",
       "      <td>E06000038</td>\n",
       "      <td>53.176756</td>\n",
       "      <td>21.321161</td>\n",
       "      <td>8.574166</td>\n",
       "    </tr>\n",
       "    <tr>\n",
       "      <th>2</th>\n",
       "      <td>E06000051</td>\n",
       "      <td>56.185583</td>\n",
       "      <td>23.063268</td>\n",
       "      <td>9.152223</td>\n",
       "    </tr>\n",
       "    <tr>\n",
       "      <th>3</th>\n",
       "      <td>E07000154</td>\n",
       "      <td>53.965550</td>\n",
       "      <td>22.083032</td>\n",
       "      <td>8.793760</td>\n",
       "    </tr>\n",
       "    <tr>\n",
       "      <th>4</th>\n",
       "      <td>E06000025</td>\n",
       "      <td>54.996403</td>\n",
       "      <td>22.207129</td>\n",
       "      <td>8.988448</td>\n",
       "    </tr>\n",
       "  </tbody>\n",
       "</table>\n",
       "</div>"
      ],
      "text/plain": [
       "        Area  Average_p  Average_d  Average_u\n",
       "0  E07000118  51.676694  21.187899   8.393854\n",
       "1  E06000038  53.176756  21.321161   8.574166\n",
       "2  E06000051  56.185583  23.063268   9.152223\n",
       "3  E07000154  53.965550  22.083032   8.793760\n",
       "4  E06000025  54.996403  22.207129   8.988448"
      ]
     },
     "execution_count": 146,
     "metadata": {},
     "output_type": "execute_result"
    }
   ],
   "source": [
    "# Code Cell 19\n",
    "# this will take a while...\n",
    "\n",
    "for i in range(len(columns)-1): #EDL : replace xrange with range\n",
    "    tmp_list = []\n",
    "    tmp_list.append(columns[i])\n",
    "    for s in suffix.keys():\n",
    "        query = 'SELECT AVG(\"{}{}\") FROM LA_wifi_speed_UK'.format(columns[i], s)\n",
    "        cur.execute(query)\n",
    "        \n",
    "        mean = cur.fetchone()\n",
    "        tmp_list.append(mean[0])\n",
    "    #concatenate the temporary list to the dataframe\n",
    "    new_df = pd.DataFrame([tmp_list], columns = new_columns)\n",
    "    df = pd.concat([df, new_df], ignore_index = True)\n",
    "# visualize the head of the dataframe here\n",
    "df.head()"
   ]
  },
  {
   "cell_type": "markdown",
   "metadata": {},
   "source": [
    "It is possible to visualize the averages for each area using `plot()`. This will show whether the average speed is the same throughout the different areas or not."
   ]
  },
  {
   "cell_type": "code",
   "execution_count": 147,
   "metadata": {
    "collapsed": true
   },
   "outputs": [
    {
     "data": {
      "text/plain": [
       "[<matplotlib.lines.Line2D at 0x122647b10>,\n",
       " <matplotlib.lines.Line2D at 0x122ed8a50>,\n",
       " <matplotlib.lines.Line2D at 0x122e25910>]"
      ]
     },
     "execution_count": 147,
     "metadata": {},
     "output_type": "execute_result"
    },
    {
     "data": {
      "image/png": "[encoded data removed]",
      "text/plain": [
       "<Figure size 2000x1000 with 1 Axes>"
      ]
     },
     "metadata": {},
     "output_type": "display_data"
    }
   ],
   "source": [
    "# Code Cell 20\n",
    "plt.figure(figsize=(20,10))\n",
    "plt.plot(df.index, df[['Average_d','Average_u','Average_p']], 'o')"
   ]
  },
  {
   "cell_type": "markdown",
   "metadata": {},
   "source": [
    "Now the average speeds are stored in a Pandas dataframe. It might be useful to save them to a table in our database, and Pandas offers a method (`to_sql()`) to do so. \n",
    "We will first check whether the table already exists (this might create problems). If it exists, we want to drop it, and then create it. Otherwise we will directly create it. \n",
    "\n",
    "The construct `try... except` will capture the exception raised in case the table does not exist, and proceed to the creation of the table (for help, see Section 8.3 of https://docs.python.org/2.7/tutorial/errors.html). \n",
    "\n",
    "###### c) Save the work.\n",
    "Save the new dataframe to a table in the InternetSpeed database. "
   ]
  },
  {
   "cell_type": "code",
   "execution_count": 148,
   "metadata": {
    "collapsed": true
   },
   "outputs": [
    {
     "data": {
      "text/plain": [
       "326"
      ]
     },
     "execution_count": 148,
     "metadata": {},
     "output_type": "execute_result"
    }
   ],
   "source": [
    "# Code Cell 21\n",
    "# Make sure to drop the table first if it already exists\n",
    "try:\n",
    "    cur.execute('DROP TABLE average_speed')\n",
    "except:\n",
    "    pass\n",
    "\n",
    "# what is the name of the table you want to save? To what connection?\n",
    "# Save the dataframe table into a SQL table\n",
    "df.to_sql('average_speed', conn)\n"
   ]
  },
  {
   "cell_type": "code",
   "execution_count": 149,
   "metadata": {
    "collapsed": true
   },
   "outputs": [
    {
     "name": "stdout",
     "output_type": "stream",
     "text": [
      "(0, 'E07000118', 51.67669382592584, 21.18789937082691, 8.393854055288331)\n",
      "(1, 'E06000038', 53.17675610838584, 21.3211612013836, 8.574166342995248)\n"
     ]
    }
   ],
   "source": [
    "# Code Cell 22\n",
    "# just checking everything worked fine: select everything from the table we just created\n",
    "# and then print the first two rows of the result\n",
    "\n",
    "query_2 = 'SELECT * FROM average_speed'\n",
    "cur.execute(query_2)\n",
    "\n",
    "# print the first fetched record\n",
    "print(cur.fetchone())\n",
    "# print the next fetched record\n",
    "print(cur.fetchone())"
   ]
  },
  {
   "cell_type": "markdown",
   "metadata": {},
   "source": [
    "## Part 4: Join Tables\n",
    "\n",
    "To understand why and how the average Internet speed changes around the areas, we need more information about them. In particular, we are interested in how populated they are, to see if a crowded area has better or worse Internet service. \n",
    "\n",
    "#### Step 1: Get relevant information.\n",
    "This information can be found in this file: \n",
    "\n",
    "    ./Data/LA_population.csv\n",
    "    \n",
    "Here, LA stands for Local Authority, rather than Los Angeles. \n",
    "We want to join the information contained in this file with the average speed computed earlier.\n",
    "First, create a new table and store this data in the InternetSpeed database.\n",
    "\n",
    "###### a) Create the population table.\n",
    "Using csvsql, import the file LA_population.csv into the InternetSpeed database. Repeat the steps done to create the other tables in the database."
   ]
  },
  {
   "cell_type": "code",
   "execution_count": 167,
   "metadata": {
    "collapsed": true
   },
   "outputs": [],
   "source": [
    "# Code Cell 23\n",
    "#first close the database file, otherwise the external csvsql command cannot use\n",
    "conn.close()"
   ]
  },
  {
   "cell_type": "code",
   "execution_count": null,
   "metadata": {
    "collapsed": true
   },
   "outputs": [],
   "source": [
    "# Code Cell 24\n",
    "# use the external csvsql command to add to the DB file data from the CSV file\n",
    "!csvsql --db sqlite:///InternetSpeed1.db --insert ./Data/LA_population.csv\n",
    "\n"
   ]
  },
  {
   "cell_type": "code",
   "execution_count": 169,
   "metadata": {
    "collapsed": true
   },
   "outputs": [],
   "source": [
    "# Code Cell 25\n",
    "#reopen the DB file\n",
    "conn = sqlite3.connect('InternetSpeed1.db')\n",
    "\n",
    "\n",
    "cur = conn.cursor()"
   ]
  },
  {
   "cell_type": "markdown",
   "metadata": {},
   "source": [
    "###### b) Test that everything worked.\n",
    "To test that everything worked and to have an idea of what is inside this new table, select the first 10 rows and print them."
   ]
  },
  {
   "cell_type": "code",
   "execution_count": 170,
   "metadata": {
    "collapsed": true
   },
   "outputs": [
    {
     "name": "stdout",
     "output_type": "stream",
     "text": [
      "('Aberdeen City', 'S12000033', 222793.0)\n",
      "('Aberdeenshire', 'S12000034', 252973.0)\n",
      "('Adur', 'E07000223', 61182.0)\n",
      "('Allerdale', 'E07000026', 96422.0)\n",
      "('Amber Valley', 'E07000032', 122309.0)\n",
      "('Angus', 'S12000041', 115978.0)\n",
      "('Antrim and Newtownabbey', 'N09000001', 138567.0)\n",
      "('Ards and North Down', 'N09000011', 156672.0)\n",
      "('Argyll and Bute', 'S12000035', 88166.0)\n",
      "('Armagh City, Banbridge and Craigavon', 'N09000002', 199693.0)\n"
     ]
    }
   ],
   "source": [
    "# Code Cell 26\n",
    "query = 'select * from LA_population limit 10'\n",
    "\n",
    "\n",
    "cur.execute(query)\n",
    "\n",
    "\n",
    "\n",
    "for row in cur:\n",
    "    print(row)\n"
   ]
  },
  {
   "cell_type": "markdown",
   "metadata": {},
   "source": [
    "We can join the two tables in order to have all the information needed. The idea is that the two tables have a field in common, the area name. This is the key on which we want to join. It means that we want a new table that has a row for each area name that contains both the average speed information and the geographical information. The way SQL does this is comparing row by row, and merging together the rows with the same value for the key (i.e., the same area name).\n",
    "\n",
    "###### c) Execute the JOIN query and print the first 10 rows of the result. "
   ]
  },
  {
   "cell_type": "code",
   "execution_count": 172,
   "metadata": {
    "collapsed": true
   },
   "outputs": [],
   "source": [
    "# Code Cell 27\n",
    "query = 'SELECT * FROM average_speed JOIN LA_population ON LA_population.\"LA_code\"=average_speed.Area'\n",
    "\n",
    "cur.execute(query)\n",
    "k = 0\n",
    "for row in cur:\n",
    "    if k>10:\n",
    "        break\n",
    "    print(row)\n",
    "    \n",
    "    \n",
    "    k+=1"
   ]
  },
  {
   "cell_type": "markdown",
   "metadata": {
    "collapsed": true
   },
   "source": [
    "<font size='0.5'>&copy; 2017 Cisco and/or its affiliates. All rights reserved. This document is Cisco Public.<font>"
   ]
  }
 ],
 "metadata": {
  "anaconda-cloud": {},
  "kernelspec": {
   "display_name": "Python 3",
   "language": "python",
   "name": "python3"
  },
  "language_info": {
   "codemirror_mode": {
    "name": "ipython",
    "version": 3
   },
   "file_extension": ".py",
   "mimetype": "text/x-python",
   "name": "python",
   "nbconvert_exporter": "python",
   "pygments_lexer": "ipython3",
   "version": "3.11.3"
  }
 },
 "nbformat": 4,
 "nbformat_minor": 1
}
