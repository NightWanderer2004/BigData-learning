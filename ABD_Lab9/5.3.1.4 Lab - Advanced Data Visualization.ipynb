{
 "cells": [
  {
   "cell_type": "markdown",
   "metadata": {},
   "source": [
    "![Title](Images/cisco.png)"
   ]
  },
  {
   "cell_type": "markdown",
   "metadata": {},
   "source": [
    "# Lab - Advanced Data Visualization "
   ]
  },
  {
   "cell_type": "markdown",
   "metadata": {},
   "source": [
    "### Objectives\n",
    "* **Part 1: Prepare the data**\n",
    "* **Part 2: Visualize the data**\n",
    "\n",
    "### Scenario/Background\n",
    "In this lab, you will learn how to combine an `SQLite` database, `JSON` files, and `pandas` `DataFrame`s. You will interface with a wrapper for the library `folium`, that enables you to plot data on a geographical map. You will produce a map of the United Kingdom divided in areas, each colored in a shade that is proportional to the internet speed, a very powerful way of understanding the data. With such a map, it will be very clear how internet speed vaires across England. You will learn how to find and fix problems in the data. \n",
    "\n",
    "### Required Resources\n",
    "* 1 PC with Internet access\n",
    "* Raspberry Pi version 2 or higher\n",
    "* Python libraries: `pandas`, `numpy`, `sqlite3`, `matplotlib`, `folium_utils`\n",
    "* Datafiles: LA_Poligons.json"
   ]
  },
  {
   "cell_type": "markdown",
   "metadata": {},
   "source": [
    "## Part 1: Prepare the data\n",
    "\n",
    "To use the `folium` library, we will modify the data to get it in the right format. At the moment, the data is in an SQLite database and we want to have it in a `pandas` `DataFrame`. A few more cahnges also need to be made.\n",
    "\n",
    "##### Step 1: Get the data and store it in a `pandas` `DataFrame`.\n",
    "\n",
    "First, we need to get the data. We are going to connect to the InternetSpeed database."
   ]
  },
  {
   "cell_type": "markdown",
   "metadata": {},
   "source": [
    "###### a) Import the libraries.\n",
    "- `pandas`\n",
    "- `numpy`\n",
    "- `sqlite3`\n",
    "- `pyplot` (and use the style fivethirtyeight, or another one if you prefer)\n",
    "- `folium_utils`"
   ]
  },
  {
   "cell_type": "code",
   "execution_count": 137,
   "metadata": {
    "collapsed": true
   },
   "outputs": [],
   "source": [
    "# Code Cell 1\n",
    "import pandas as pd\n",
    "import numpy as np\n",
    "import matplotlib.pyplot as plt\n",
    "import folium_utils\n",
    "import sqlite3\n",
    "\n",
    "%matplotlib inline"
   ]
  },
  {
   "cell_type": "markdown",
   "metadata": {},
   "source": [
    "###### b) Connect to the database.\n",
    "\n",
    "\n",
    "Now we need to go back to the database we created and populated in the second lab of Chapter 2:\n",
    "\n",
    "    ./Data/InternetSpeed.db\n",
    "A copy of the database is stored in your Chapter 5 folder. Connect to the database.    "
   ]
  },
  {
   "cell_type": "code",
   "execution_count": 138,
   "metadata": {
    "collapsed": true
   },
   "outputs": [],
   "source": [
    "# Code Cell 2\n",
    "\n",
    "# Create the connection to the database\n",
    "conn = sqlite3.connect('./Data/InternetSpeed.db')\n",
    "# Create a cursor\n",
    "cur = conn.cursor()"
   ]
  },
  {
   "cell_type": "markdown",
   "metadata": {},
   "source": [
    "The database contains the table `average_speed` with the average ping time, upload speed, and download speed for the different Local Authorities in England. The first step in this lab is to read the data in the table into a `pandas` `DataFrame` with the function `.read_sql()`. \n",
    "\n",
    "This function needs a string containing the query to be executed and the variable that contains the connection to the database (see http://pandas.pydata.org/pandas-docs/stable/generated/pandas.read_sql.html for details). Assuming the query is stored in the variable `query`, the call\n",
    "\n",
    "    pd.read_sql(query)\n",
    "\n",
    "will return a `pandas` `DataFrame`.\n",
    "\n",
    "###### c) Store the data in a `DataFrame`.\n",
    "1. Write the query to select all the data in the table `average_speed`.\n",
    "2. Use `pandas` to put the results of the query into a `DataFrame`.\n"
   ]
  },
  {
   "cell_type": "code",
   "execution_count": 139,
   "metadata": {
    "collapsed": true
   },
   "outputs": [],
   "source": [
    "# Code Cell 3\n",
    "# Create a query to select all the data in the table average_speed\n",
    "query = 'SELECT * FROM average_speed'\n",
    "\n",
    "# Read the the data from the table into a DataFrame.\n",
    "df = pd.read_sql(query, conn)"
   ]
  },
  {
   "cell_type": "markdown",
   "metadata": {},
   "source": [
    "###### Step 2: Clean the data.\n",
    "\n",
    "Using the `pandas` functions learned so far, explore the produced `Dataframe` and remove any unwanted columns."
   ]
  },
  {
   "cell_type": "markdown",
   "metadata": {},
   "source": [
    "###### a) Explore the data.\n",
    "Print the first few rows of the `DataFrame` df."
   ]
  },
  {
   "cell_type": "code",
   "execution_count": 140,
   "metadata": {
    "collapsed": true
   },
   "outputs": [
    {
     "data": {
      "text/html": [
       "<div>\n",
       "<style scoped>\n",
       "    .dataframe tbody tr th:only-of-type {\n",
       "        vertical-align: middle;\n",
       "    }\n",
       "\n",
       "    .dataframe tbody tr th {\n",
       "        vertical-align: top;\n",
       "    }\n",
       "\n",
       "    .dataframe thead th {\n",
       "        text-align: right;\n",
       "    }\n",
       "</style>\n",
       "<table border=\"1\" class=\"dataframe\">\n",
       "  <thead>\n",
       "    <tr style=\"text-align: right;\">\n",
       "      <th></th>\n",
       "      <th>index</th>\n",
       "      <th>Area</th>\n",
       "      <th>Average_p</th>\n",
       "      <th>Average_u</th>\n",
       "      <th>Average_d</th>\n",
       "    </tr>\n",
       "  </thead>\n",
       "  <tbody>\n",
       "    <tr>\n",
       "      <th>0</th>\n",
       "      <td>0</td>\n",
       "      <td>E07000188</td>\n",
       "      <td>8.451897</td>\n",
       "      <td>21.114114</td>\n",
       "      <td>51.967713</td>\n",
       "    </tr>\n",
       "    <tr>\n",
       "      <th>1</th>\n",
       "      <td>1</td>\n",
       "      <td>E07000101</td>\n",
       "      <td>8.317833</td>\n",
       "      <td>20.733028</td>\n",
       "      <td>51.709226</td>\n",
       "    </tr>\n",
       "    <tr>\n",
       "      <th>2</th>\n",
       "      <td>2</td>\n",
       "      <td>E09000030</td>\n",
       "      <td>8.983481</td>\n",
       "      <td>22.469438</td>\n",
       "      <td>54.412001</td>\n",
       "    </tr>\n",
       "    <tr>\n",
       "      <th>3</th>\n",
       "      <td>3</td>\n",
       "      <td>E09000031</td>\n",
       "      <td>8.956481</td>\n",
       "      <td>22.353593</td>\n",
       "      <td>55.138017</td>\n",
       "    </tr>\n",
       "    <tr>\n",
       "      <th>4</th>\n",
       "      <td>4</td>\n",
       "      <td>E09000032</td>\n",
       "      <td>9.144285</td>\n",
       "      <td>22.859003</td>\n",
       "      <td>55.962499</td>\n",
       "    </tr>\n",
       "  </tbody>\n",
       "</table>\n",
       "</div>"
      ],
      "text/plain": [
       "   index       Area  Average_p  Average_u  Average_d\n",
       "0      0  E07000188   8.451897  21.114114  51.967713\n",
       "1      1  E07000101   8.317833  20.733028  51.709226\n",
       "2      2  E09000030   8.983481  22.469438  54.412001\n",
       "3      3  E09000031   8.956481  22.353593  55.138017\n",
       "4      4  E09000032   9.144285  22.859003  55.962499"
      ]
     },
     "execution_count": 140,
     "metadata": {},
     "output_type": "execute_result"
    }
   ],
   "source": [
    "# Code Cell 4\n",
    "df.head()"
   ]
  },
  {
   "cell_type": "markdown",
   "metadata": {},
   "source": [
    "The column `index` is not needed for this exercise. \n",
    "\n",
    "###### b) Clean the data.\n",
    "Drop the column `index` from the `DataFrame`. Remember that the change is effective if the parameter `inplace` is set to True or if you assign the modified `DataFrame` to a new `DataFrame`. "
   ]
  },
  {
   "cell_type": "code",
   "execution_count": 141,
   "metadata": {
    "collapsed": true
   },
   "outputs": [
    {
     "name": "stdout",
     "output_type": "stream",
     "text": [
      "(326, 4)\n"
     ]
    },
    {
     "data": {
      "text/html": [
       "<div>\n",
       "<style scoped>\n",
       "    .dataframe tbody tr th:only-of-type {\n",
       "        vertical-align: middle;\n",
       "    }\n",
       "\n",
       "    .dataframe tbody tr th {\n",
       "        vertical-align: top;\n",
       "    }\n",
       "\n",
       "    .dataframe thead th {\n",
       "        text-align: right;\n",
       "    }\n",
       "</style>\n",
       "<table border=\"1\" class=\"dataframe\">\n",
       "  <thead>\n",
       "    <tr style=\"text-align: right;\">\n",
       "      <th></th>\n",
       "      <th>Area</th>\n",
       "      <th>Average_p</th>\n",
       "      <th>Average_u</th>\n",
       "      <th>Average_d</th>\n",
       "    </tr>\n",
       "  </thead>\n",
       "  <tbody>\n",
       "    <tr>\n",
       "      <th>0</th>\n",
       "      <td>E07000188</td>\n",
       "      <td>8.451897</td>\n",
       "      <td>21.114114</td>\n",
       "      <td>51.967713</td>\n",
       "    </tr>\n",
       "    <tr>\n",
       "      <th>1</th>\n",
       "      <td>E07000101</td>\n",
       "      <td>8.317833</td>\n",
       "      <td>20.733028</td>\n",
       "      <td>51.709226</td>\n",
       "    </tr>\n",
       "    <tr>\n",
       "      <th>2</th>\n",
       "      <td>E09000030</td>\n",
       "      <td>8.983481</td>\n",
       "      <td>22.469438</td>\n",
       "      <td>54.412001</td>\n",
       "    </tr>\n",
       "    <tr>\n",
       "      <th>3</th>\n",
       "      <td>E09000031</td>\n",
       "      <td>8.956481</td>\n",
       "      <td>22.353593</td>\n",
       "      <td>55.138017</td>\n",
       "    </tr>\n",
       "    <tr>\n",
       "      <th>4</th>\n",
       "      <td>E09000032</td>\n",
       "      <td>9.144285</td>\n",
       "      <td>22.859003</td>\n",
       "      <td>55.962499</td>\n",
       "    </tr>\n",
       "  </tbody>\n",
       "</table>\n",
       "</div>"
      ],
      "text/plain": [
       "        Area  Average_p  Average_u  Average_d\n",
       "0  E07000188   8.451897  21.114114  51.967713\n",
       "1  E07000101   8.317833  20.733028  51.709226\n",
       "2  E09000030   8.983481  22.469438  54.412001\n",
       "3  E09000031   8.956481  22.353593  55.138017\n",
       "4  E09000032   9.144285  22.859003  55.962499"
      ]
     },
     "execution_count": 141,
     "metadata": {},
     "output_type": "execute_result"
    }
   ],
   "source": [
    "# Code Cell 5\n",
    "df.drop('index', inplace=True, axis=1)\n",
    "\n",
    "print(df.shape)\n",
    "df.head()"
   ]
  },
  {
   "cell_type": "markdown",
   "metadata": {},
   "source": [
    "##### Step 3: Learn about `JSON` files.\n",
    "\n",
    "The map will be created by drawing the borders of each Local Authority and coloring them according to a colormap. The color coded map will indicate the relative Internet speed of an area with respect to other areas. \n",
    "\n",
    "Each area is represented by a polygon, which will be drawn on our map. The edges of each polygon represent the borders of each Local Authority. A `JSON` file is provided, containing the coordinates of the borders of each Local Authority.  \n",
    "\n",
    "`JSON` is a popular alternative to XML, and it is a format used to store and exchange data (to learn more about `JSON` see  http://www.w3schools.com/js/js_json_intro.asp).\n",
    "\n",
    "###### a) Open and observe the file.\n",
    "    \n",
    "    LA_poligons.json\n",
    "    \n",
    "Similar to the functionalities provided for reading `csv` files and `SQL` tables, it is possible to read the content of a `JSON` file in a `pandas` `DataFrame` with the method `read_json()`. This method takes an input string containing the path to the file we intend to read (see this documentation for more details: http://pandas.pydata.org/pandas-docs/stable/generated/pandas.read_json.html).\n",
    "\n",
    "###### b) Read `LA_poligons.json` into a `pandas` `DataFrame`, and then visualize the first few rows. "
   ]
  },
  {
   "cell_type": "code",
   "execution_count": 142,
   "metadata": {
    "collapsed": true
   },
   "outputs": [
    {
     "data": {
      "text/html": [
       "<div>\n",
       "<style scoped>\n",
       "    .dataframe tbody tr th:only-of-type {\n",
       "        vertical-align: middle;\n",
       "    }\n",
       "\n",
       "    .dataframe tbody tr th {\n",
       "        vertical-align: top;\n",
       "    }\n",
       "\n",
       "    .dataframe thead th {\n",
       "        text-align: right;\n",
       "    }\n",
       "</style>\n",
       "<table border=\"1\" class=\"dataframe\">\n",
       "  <thead>\n",
       "    <tr style=\"text-align: right;\">\n",
       "      <th></th>\n",
       "      <th>LA_code</th>\n",
       "      <th>geometry</th>\n",
       "    </tr>\n",
       "  </thead>\n",
       "  <tbody>\n",
       "    <tr>\n",
       "      <th>0</th>\n",
       "      <td>E06000001</td>\n",
       "      <td>{u'type': u'MultiPolygon', u'coordinates': [[[...</td>\n",
       "    </tr>\n",
       "    <tr>\n",
       "      <th>1</th>\n",
       "      <td>E06000002</td>\n",
       "      <td>{u'type': u'MultiPolygon', u'coordinates': [[[...</td>\n",
       "    </tr>\n",
       "    <tr>\n",
       "      <th>2</th>\n",
       "      <td>E06000003</td>\n",
       "      <td>{u'type': u'MultiPolygon', u'coordinates': [[[...</td>\n",
       "    </tr>\n",
       "    <tr>\n",
       "      <th>3</th>\n",
       "      <td>E06000004</td>\n",
       "      <td>{u'type': u'MultiPolygon', u'coordinates': [[[...</td>\n",
       "    </tr>\n",
       "    <tr>\n",
       "      <th>4</th>\n",
       "      <td>E06000005</td>\n",
       "      <td>{u'type': u'Polygon', u'coordinates': [[[-1.63...</td>\n",
       "    </tr>\n",
       "  </tbody>\n",
       "</table>\n",
       "</div>"
      ],
      "text/plain": [
       "     LA_code                                           geometry\n",
       "0  E06000001  {u'type': u'MultiPolygon', u'coordinates': [[[...\n",
       "1  E06000002  {u'type': u'MultiPolygon', u'coordinates': [[[...\n",
       "2  E06000003  {u'type': u'MultiPolygon', u'coordinates': [[[...\n",
       "3  E06000004  {u'type': u'MultiPolygon', u'coordinates': [[[...\n",
       "4  E06000005  {u'type': u'Polygon', u'coordinates': [[[-1.63..."
      ]
     },
     "execution_count": 142,
     "metadata": {},
     "output_type": "execute_result"
    }
   ],
   "source": [
    "# Code Cell 6\n",
    "# Read the JSON file into a DataFrame\n",
    "la_json = pd.read_json('./Data/LA_poligons.json')\n",
    "\n",
    "# Visualize the first rows of la_json DataFrame\n",
    "la_json.head()"
   ]
  },
  {
   "cell_type": "markdown",
   "metadata": {},
   "source": [
    "The information contained in this `Dataframe` will be used later in the visualization."
   ]
  },
  {
   "cell_type": "markdown",
   "metadata": {},
   "source": [
    "##### Step 4: Average the ping speed.\n",
    "For each map that will be produced, only one of the three Internet speed indicators can be visualized (average ping, upload speed, or download speed). In this lab, the focus will be on the average ping speed, but the student is encouraged to repeat the exercise to visualize upload and download speeds.\n",
    "\n",
    "###### a) Prepare the data.\n",
    "Create a new `pandas` `DataFrame` that contains only two columns: `Area` and `Average_p`, selecting them from the `DataFrame` that contains the `InternetSpeed` database data. \n",
    "Now rename the column `Area` to `LA_code`, using the method `rename()`.\n",
    "You will need to pass to the method the field `columns` with this code:\n",
    "\n",
    "    columns={'Area':'LA_code'}\n",
    "    \n",
    "1. Create the new `DataFrame`.\n",
    "2. Rename the columns.\n",
    "3. Display the first few lines of the new `DataFrame`."
   ]
  },
  {
   "cell_type": "code",
   "execution_count": 143,
   "metadata": {
    "collapsed": true,
    "scrolled": true
   },
   "outputs": [
    {
     "data": {
      "text/html": [
       "<div>\n",
       "<style scoped>\n",
       "    .dataframe tbody tr th:only-of-type {\n",
       "        vertical-align: middle;\n",
       "    }\n",
       "\n",
       "    .dataframe tbody tr th {\n",
       "        vertical-align: top;\n",
       "    }\n",
       "\n",
       "    .dataframe thead th {\n",
       "        text-align: right;\n",
       "    }\n",
       "</style>\n",
       "<table border=\"1\" class=\"dataframe\">\n",
       "  <thead>\n",
       "    <tr style=\"text-align: right;\">\n",
       "      <th></th>\n",
       "      <th>LA_code</th>\n",
       "      <th>Average_p</th>\n",
       "    </tr>\n",
       "  </thead>\n",
       "  <tbody>\n",
       "    <tr>\n",
       "      <th>0</th>\n",
       "      <td>E07000188</td>\n",
       "      <td>8.451897</td>\n",
       "    </tr>\n",
       "    <tr>\n",
       "      <th>1</th>\n",
       "      <td>E07000101</td>\n",
       "      <td>8.317833</td>\n",
       "    </tr>\n",
       "    <tr>\n",
       "      <th>2</th>\n",
       "      <td>E09000030</td>\n",
       "      <td>8.983481</td>\n",
       "    </tr>\n",
       "    <tr>\n",
       "      <th>3</th>\n",
       "      <td>E09000031</td>\n",
       "      <td>8.956481</td>\n",
       "    </tr>\n",
       "    <tr>\n",
       "      <th>4</th>\n",
       "      <td>E09000032</td>\n",
       "      <td>9.144285</td>\n",
       "    </tr>\n",
       "  </tbody>\n",
       "</table>\n",
       "</div>"
      ],
      "text/plain": [
       "     LA_code  Average_p\n",
       "0  E07000188   8.451897\n",
       "1  E07000101   8.317833\n",
       "2  E09000030   8.983481\n",
       "3  E09000031   8.956481\n",
       "4  E09000032   9.144285"
      ]
     },
     "execution_count": 143,
     "metadata": {},
     "output_type": "execute_result"
    }
   ],
   "source": [
    "# Create a new DataFrame with columns 'Area' and 'Average_p'\n",
    "dfp = df[['Area', 'Average_p']]\n",
    "\n",
    "# Rename the column 'Area' to 'LA_code'\n",
    "dfp = dfp.rename(columns={'Area': 'LA_code'})\n",
    "\n",
    "# Display the first few lines of the new DataFrame\n",
    "dfp.head()\n"
   ]
  },
  {
   "cell_type": "markdown",
   "metadata": {},
   "source": [
    "By default, `folium` uses only 6 different colors to define a colormap. Rather than defining a custom colormap, the data of the Internet speed indicator of interest will be divided into 6 bins, and each bin will be associated to a  different color. The bins must be carefully defined, in order to maximize the differences between the different areas.\n",
    "To choose the bins, it's a good idea to have a look at the range of the data. \n",
    "\n",
    "So far, the columns of a `pandas` `DataFrame` have been accessed in the following way:\n",
    "\n",
    "    df['Name_of_the_column']\n",
    "\n",
    "An alternative way to do so is:\n",
    "\n",
    "    df.Name_of_the_column"
   ]
  },
  {
   "cell_type": "code",
   "execution_count": 144,
   "metadata": {
    "collapsed": true
   },
   "outputs": [
    {
     "name": "stdout",
     "output_type": "stream",
     "text": [
      "0.0\n",
      "11.999447541819524\n"
     ]
    }
   ],
   "source": [
    "# Code Cell 8\n",
    "print(dfp.Average_p.min())\n",
    "print(dfp.Average_p.max())"
   ]
  },
  {
   "cell_type": "markdown",
   "metadata": {},
   "source": [
    "The ping time is roughly contained in the interval 0-12. If the bins are chosen to be [0, 10, 20, 30, 40, 50], all the data would fall in the first bin and all the areas would be represented with the first color. A good starting point is to take the range in which the data lives and divide it in six different parts.\n",
    "\n",
    "To create the bins, use the `numpy` method `arange()`. This method takes as input the minimum value of the range, the maximum value of the range, and the step. If 6 bins in the range 1 to 12 are required, the function call would look like: \n",
    "\n",
    "    np.arange(1, 12, (12-1)/6)\n",
    "\n",
    "###### b) Select good bins for visualization.\n",
    "Create a range of six values that goes from the minimum to the maximum value of the average ping speed and cast it to a list (`list(p_bins)`)."
   ]
  },
  {
   "cell_type": "code",
   "execution_count": 145,
   "metadata": {
    "collapsed": true
   },
   "outputs": [
    {
     "name": "stdout",
     "output_type": "stream",
     "text": [
      "[1.0, 2.833333333333333, 4.666666666666666, 6.499999999999999, 8.333333333333332, 10.166666666666664]\n"
     ]
    }
   ],
   "source": [
    "# Code Cell 9\n",
    "p_bins = np.arange(1, 12, (12-1)/6)\n",
    "\n",
    "p_bins = list(p_bins)\n",
    "\n",
    "print(p_bins)"
   ]
  },
  {
   "cell_type": "markdown",
   "metadata": {},
   "source": [
    "## Part 2: Visualize the data"
   ]
  },
  {
   "cell_type": "markdown",
   "metadata": {},
   "source": [
    "In the folder that contains the code, there is a Python script that contains a few functions that will help produce a data visualization on a map. The main library it uses is `folium`. The library documentation can be found here: https://folium.readthedocs.io/en/latest/).\n",
    "\n",
    "You can import the functions in a Python script just like any other library.\n",
    "\n",
    "##### Step 1: Plot the data on a map."
   ]
  },
  {
   "cell_type": "markdown",
   "metadata": {},
   "source": [
    "###### a) Learn about the `folium_utils` code.\n",
    "\n",
    "Open the Python source file `folium_utils.py` and read through it. This script contains a few functions that make use of the `folium` library. \n",
    "\n",
    "Can you identify the main function that we are going to use later in the notebook?\n",
    "\n",
    "This code wraps what a user should write as multiple functions into one with a simpler interface. \n",
    "\n",
    "To produce the first map, use the function \n",
    "    \n",
    "        folium_top_x_preds_mapper()\n",
    "        \n",
    "contained in `folium_utils`."
   ]
  },
  {
   "cell_type": "markdown",
   "metadata": {},
   "source": [
    "###### b) Call the function `folium_top_x_preds_mapper()` with the following parameters:\n",
    "\n",
    "- The `Dataframe` that contains the data to be visualized (`dfp`)\n",
    "- The `Dataframe` that contains the coordinates of the polygons (`la_json`)\n",
    "- The name of the column on which to merge the two `DataFrames` (LA_code)\n",
    "- The name of the column that contains the data to plot (Average_p)\n",
    "- The list containing the limits of the bins (`p_bins`)"
   ]
  },
  {
   "cell_type": "code",
   "execution_count": 146,
   "metadata": {
    "collapsed": true
   },
   "outputs": [
    {
     "ename": "AttributeError",
     "evalue": "module 'folium' has no attribute 'folium_top_x_preds_mapper'",
     "output_type": "error",
     "traceback": [
      "\u001b[0;31m---------------------------------------------------------------------------\u001b[0m",
      "\u001b[0;31mAttributeError\u001b[0m                            Traceback (most recent call last)",
      "Cell \u001b[0;32mIn[146], line 3\u001b[0m\n\u001b[1;32m      1\u001b[0m \u001b[38;5;66;03m# Code Cell 10\u001b[39;00m\n\u001b[1;32m      2\u001b[0m \u001b[38;5;66;03m# Create the map\u001b[39;00m\n\u001b[0;32m----> 3\u001b[0m mymap \u001b[38;5;241m=\u001b[39m \u001b[43mfolium\u001b[49m\u001b[38;5;241;43m.\u001b[39;49m\u001b[43mfolium_top_x_preds_mapper\u001b[49m(dfp, la_json, \u001b[38;5;124m'\u001b[39m\u001b[38;5;124mLA_code\u001b[39m\u001b[38;5;124m'\u001b[39m, \u001b[38;5;124m'\u001b[39m\u001b[38;5;124mAverage_p\u001b[39m\u001b[38;5;124m'\u001b[39m, p_bins)\n\u001b[1;32m      5\u001b[0m mymap\n",
      "\u001b[0;31mAttributeError\u001b[0m: module 'folium' has no attribute 'folium_top_x_preds_mapper'"
     ]
    }
   ],
   "source": [
    "# Code Cell 10\n",
    "# Create the map\n",
    "mymap = folium.folium_top_x_preds_mapper(dfp, la_json, 'LA_code', 'Average_p', p_bins)\n",
    "\n",
    "mymap"
   ]
  },
  {
   "cell_type": "markdown",
   "metadata": {},
   "source": [
    "What happened? The number of Local Authorities contained in the `DataFrame` `dfp` is bigger than the one contained in the `la_json`. In this case, `folium` would fail to visualize the map, resulting in an error. In `folium_utils`, a check was added to prevent this from happening, and the error message `Length mismatch` is visualized. But why is this happening?\n",
    "\n",
    "Let's examine the data:\n",
    "\n",
    "###### c) Plot the column Average_p.\n",
    "\n",
    "`pandas` provides the basic functionalities to generate plots starting from `DataFrame`s. The plot method on `Series` and `DataFrame` is just a simple wrapper around plt.plot(), but it saves a few lines of code.\n",
    "\n",
    "You can call the method `plot()` directly on the column you want to plot (`dfp.Average_p.plot()`). \n",
    "\n",
    "(See http://pandas.pydata.org/pandas-docs/version/0.18.1/visualization.html for more details about visualization in `pandas`)."
   ]
  },
  {
   "cell_type": "code",
   "execution_count": null,
   "metadata": {
    "collapsed": true
   },
   "outputs": [
    {
     "data": {
      "text/plain": [
       "<Axes: ylabel='Frequency'>"
      ]
     },
     "execution_count": 120,
     "metadata": {},
     "output_type": "execute_result"
    },
    {
     "data": {
      "image/png": "[encoded data removed]",
      "text/plain": [
       "<Figure size 1000x700 with 1 Axes>"
      ]
     },
     "metadata": {},
     "output_type": "display_data"
    }
   ],
   "source": [
    "# Code Cell 11\n",
    "# Plot the column Average_p\n",
    "dfp.Average_p.plot(kind='hist', bins=20, figsize=(10,7))\n"
   ]
  },
  {
   "cell_type": "markdown",
   "metadata": {},
   "source": [
    "The visualization shows that there is a Local Authority for which the average internet speed is zero. Because it is clearly an anomaly, it is necessary to have a closer look.\n",
    "\n",
    "###### d) Select the row in which the average speed is zero from the `DataFrame`."
   ]
  },
  {
   "cell_type": "code",
   "execution_count": null,
   "metadata": {
    "collapsed": true
   },
   "outputs": [
    {
     "data": {
      "text/plain": [
       "0.0"
      ]
     },
     "execution_count": 121,
     "metadata": {},
     "output_type": "execute_result"
    }
   ],
   "source": [
    "# Code Cell 12\n",
    "dfp['Average_p'].idxmin()\n",
    "dfp['Average_p'][45]\n"
   ]
  },
  {
   "cell_type": "markdown",
   "metadata": {},
   "source": [
    "DateTime is not the name of a Local Authority: there was a mistake in collecting or storing the data. \n",
    "\n",
    "##### Step 2: Fix the data and plot the data on a map again.\n",
    "\n",
    "###### a) Remove the wrong row from your `DataFrame` \n",
    "Remember that for the change to be effective, the flag `inplace` must be set to `True`."
   ]
  },
  {
   "cell_type": "code",
   "execution_count": null,
   "metadata": {
    "collapsed": true
   },
   "outputs": [
    {
     "data": {
      "text/plain": [
       "<Axes: ylabel='Frequency'>"
      ]
     },
     "execution_count": 122,
     "metadata": {},
     "output_type": "execute_result"
    },
    {
     "data": {
      "image/png": "[encoded data removed]",
      "text/plain": [
       "<Figure size 1000x700 with 1 Axes>"
      ]
     },
     "metadata": {},
     "output_type": "display_data"
    }
   ],
   "source": [
    "# Code Cell 13\n",
    "# hint: you can use the index (45) to remove the row\n",
    "dfp.drop(45, inplace=True)\n",
    "\n",
    "# Plot here the cleaned data\n",
    "dfp.Average_p.plot(kind='hist', bins=20, figsize=(10,7))"
   ]
  },
  {
   "cell_type": "markdown",
   "metadata": {},
   "source": [
    "Now that the data looks better, we can plot the map again by calling the function in the folium wrapper. We need however, stop for a second and pay attention.\n"
   ]
  },
  {
   "cell_type": "markdown",
   "metadata": {},
   "source": [
    "#### Attention!\n",
    "\n",
    "If using Chrome, there is currently a limit on the size of map that can be correctly visualized inside a notebook. To this end, we need to limit the size of the `dfp` `DataFrame` to the first 50 rows. The discrepancy in the size of the `dfp` and `la_json` `DataFrame`'s in this case will not cause an error, because `dfp` cannot be bigger than `la_json`, but it can be smaller.\n",
    "This is operation is not needed if using Firefox."
   ]
  },
  {
   "cell_type": "code",
   "execution_count": null,
   "metadata": {},
   "outputs": [],
   "source": [
    "# resize the dfp DataFrame. This operation is not needed if using Firefox\n",
    "dfp = dfp.iloc[0:51]"
   ]
  },
  {
   "cell_type": "markdown",
   "metadata": {},
   "source": [
    "\n",
    "###### b) Call the function  `folium_top_x_preds_mapper()` again , with the same parameters as before."
   ]
  },
  {
   "cell_type": "code",
   "execution_count": null,
   "metadata": {
    "collapsed": true
   },
   "outputs": [
    {
     "ename": "AttributeError",
     "evalue": "'Map' object has no attribute 'choropleth'",
     "output_type": "error",
     "traceback": [
      "\u001b[0;31m---------------------------------------------------------------------------\u001b[0m",
      "\u001b[0;31mAttributeError\u001b[0m                            Traceback (most recent call last)",
      "Cell \u001b[0;32mIn[124], line 2\u001b[0m\n\u001b[1;32m      1\u001b[0m \u001b[38;5;66;03m# Code Cell 14\u001b[39;00m\n\u001b[0;32m----> 2\u001b[0m mymap \u001b[38;5;241m=\u001b[39m \u001b[43mfolium\u001b[49m\u001b[38;5;241;43m.\u001b[39;49m\u001b[43mfolium_top_x_preds_mapper\u001b[49m\u001b[43m(\u001b[49m\u001b[43mdfp\u001b[49m\u001b[43m,\u001b[49m\u001b[43m \u001b[49m\u001b[43mla_json\u001b[49m\u001b[43m,\u001b[49m\u001b[43m \u001b[49m\u001b[38;5;124;43m\"\u001b[39;49m\u001b[38;5;124;43mLA_code\u001b[39;49m\u001b[38;5;124;43m\"\u001b[39;49m\u001b[43m,\u001b[49m\u001b[43m \u001b[49m\u001b[38;5;124;43m\"\u001b[39;49m\u001b[38;5;124;43mAverage_p\u001b[39;49m\u001b[38;5;124;43m\"\u001b[39;49m\u001b[43m,\u001b[49m\u001b[43m \u001b[49m\u001b[43mp_bins\u001b[49m\u001b[43m)\u001b[49m\n\u001b[1;32m      4\u001b[0m mymap\n",
      "File \u001b[0;32m~/Code/BigData-learning/ABD_Lab9/folium_utils.py:93\u001b[0m, in \u001b[0;36mfolium_top_x_preds_mapper\u001b[0;34m(preds_data, json_df, geographic_element, data_column, bins, longlat, color_palette)\u001b[0m\n\u001b[1;32m     90\u001b[0m \u001b[38;5;28mmap\u001b[39m \u001b[38;5;241m=\u001b[39m folium\u001b[38;5;241m.\u001b[39mMap(location\u001b[38;5;241m=\u001b[39mlonglat, zoom_start\u001b[38;5;241m=\u001b[39m\u001b[38;5;241m6\u001b[39m) \n\u001b[1;32m     92\u001b[0m \u001b[38;5;66;03m# Add choroplet layer to the map \u001b[39;00m\n\u001b[0;32m---> 93\u001b[0m \u001b[38;5;28;43mmap\u001b[39;49m\u001b[38;5;241;43m.\u001b[39;49m\u001b[43mchoropleth\u001b[49m(geo_str\u001b[38;5;241m=\u001b[39mtop_x_jsons, \u001b[38;5;66;03m#geographical information for the areas\u001b[39;00m\n\u001b[1;32m     94\u001b[0m               data\u001b[38;5;241m=\u001b[39mtop_x_data[[geographic_element,data_column]], \u001b[38;5;66;03m# the data to use to colour the areas\u001b[39;00m\n\u001b[1;32m     95\u001b[0m               columns\u001b[38;5;241m=\u001b[39m[geographic_element,data_column], \u001b[38;5;66;03m# values from the data to use\u001b[39;00m\n\u001b[1;32m     96\u001b[0m               key_on\u001b[38;5;241m=\u001b[39m\u001b[38;5;124m'\u001b[39m\u001b[38;5;124mfeature.properties.\u001b[39m\u001b[38;5;132;01m%s\u001b[39;00m\u001b[38;5;124m'\u001b[39m\u001b[38;5;241m%\u001b[39mgeographic_element, \u001b[38;5;66;03m# the corresponding data in the geoJson to identify the areas\u001b[39;00m\n\u001b[1;32m     97\u001b[0m               fill_color\u001b[38;5;241m=\u001b[39mcolor_palette, \u001b[38;5;66;03m# color-scale\u001b[39;00m\n\u001b[1;32m     98\u001b[0m               fill_opacity\u001b[38;5;241m=\u001b[39m\u001b[38;5;241m0.6\u001b[39m, \u001b[38;5;66;03m# colour opacitity\u001b[39;00m\n\u001b[1;32m     99\u001b[0m               line_opacity\u001b[38;5;241m=\u001b[39m\u001b[38;5;241m-\u001b[39m\u001b[38;5;241m1\u001b[39m,\n\u001b[1;32m    100\u001b[0m               threshold_scale\u001b[38;5;241m=\u001b[39mbins,\n\u001b[1;32m    101\u001b[0m               legend_name\u001b[38;5;241m=\u001b[39m\u001b[38;5;124m'\u001b[39m\u001b[38;5;132;01m%s\u001b[39;00m\u001b[38;5;124m'\u001b[39m\u001b[38;5;241m%\u001b[39mdata_column)\n\u001b[1;32m    103\u001b[0m \u001b[38;5;28;01mreturn\u001b[39;00m \u001b[38;5;28mmap\u001b[39m\n",
      "\u001b[0;31mAttributeError\u001b[0m: 'Map' object has no attribute 'choropleth'"
     ]
    }
   ],
   "source": [
    "# Code Cell 14\n",
    "mymap = folium.folium_top_x_preds_mapper(dfp, la_json, \"LA_code\", \"Average_p\", p_bins)\n",
    "\n",
    "mymap"
   ]
  },
  {
   "cell_type": "markdown",
   "metadata": {},
   "source": [
    "If you have resized the `dfp` `DataFrame`, you should see a map with only one color for the 6 to 8 bin. If you haven't resized it, you should also see the 8 to 10 bin. What happened there?\n",
    "2\n",
    "​\n",
    "3\n",
    "The value 0 was removed, because it was found to be an anomaly, but the range of the bins for the colormap was not changed.\n",
    "4\n",
    "What is the new minimum value for `Average_p`?"
   ]
  },
  {
   "cell_type": "code",
   "execution_count": null,
   "metadata": {
    "collapsed": true
   },
   "outputs": [
    {
     "name": "stdout",
     "output_type": "stream",
     "text": [
      "8.154217069047325\n"
     ]
    }
   ],
   "source": [
    "# Code Cell 15\n",
    "print(dfp.Average_p.min())"
   ]
  },
  {
   "cell_type": "markdown",
   "metadata": {},
   "source": [
    "It is necessary to repeat the creation of bins with the cleaned dataset. After this, call the function  `folium_top_x_preds_mapper()` to correctly visualize the average ping speed across the UK.\n",
    "###### c) Recreate the bin range, recreate the map, and visualize it."
   ]
  },
  {
   "cell_type": "code",
   "execution_count": null,
   "metadata": {
    "collapsed": true,
    "scrolled": true
   },
   "outputs": [
    {
     "ename": "AttributeError",
     "evalue": "'Map' object has no attribute 'choropleth'",
     "output_type": "error",
     "traceback": [
      "\u001b[0;31m---------------------------------------------------------------------------\u001b[0m",
      "\u001b[0;31mAttributeError\u001b[0m                            Traceback (most recent call last)",
      "Cell \u001b[0;32mIn[109], line 7\u001b[0m\n\u001b[1;32m      3\u001b[0m p_bins \u001b[38;5;241m=\u001b[39m np\u001b[38;5;241m.\u001b[39marange(\u001b[38;5;241m1\u001b[39m, \u001b[38;5;241m12\u001b[39m, (\u001b[38;5;241m12\u001b[39m\u001b[38;5;241m-\u001b[39m\u001b[38;5;241m1\u001b[39m)\u001b[38;5;241m/\u001b[39m\u001b[38;5;241m6\u001b[39m)\n\u001b[1;32m      5\u001b[0m p_bins \u001b[38;5;241m=\u001b[39m \u001b[38;5;28mlist\u001b[39m(p_bins)\n\u001b[0;32m----> 7\u001b[0m mymap \u001b[38;5;241m=\u001b[39m \u001b[43mfolium_utils\u001b[49m\u001b[38;5;241;43m.\u001b[39;49m\u001b[43mfolium_top_x_preds_mapper\u001b[49m\u001b[43m(\u001b[49m\u001b[43mdfp\u001b[49m\u001b[43m,\u001b[49m\u001b[43m \u001b[49m\u001b[43mla_json\u001b[49m\u001b[43m,\u001b[49m\u001b[43m \u001b[49m\u001b[38;5;124;43m'\u001b[39;49m\u001b[38;5;124;43mLA_code\u001b[39;49m\u001b[38;5;124;43m'\u001b[39;49m\u001b[43m,\u001b[49m\u001b[43m \u001b[49m\u001b[38;5;124;43m'\u001b[39;49m\u001b[38;5;124;43mAverage_p\u001b[39;49m\u001b[38;5;124;43m'\u001b[39;49m\u001b[43m,\u001b[49m\u001b[43m \u001b[49m\u001b[43mp_bins\u001b[49m\u001b[43m)\u001b[49m\n\u001b[1;32m      9\u001b[0m mymap\n",
      "File \u001b[0;32m~/Code/BigData-learning/ABD_Lab9/folium_utils.py:93\u001b[0m, in \u001b[0;36mfolium_top_x_preds_mapper\u001b[0;34m(preds_data, json_df, geographic_element, data_column, bins, longlat, color_palette)\u001b[0m\n\u001b[1;32m     90\u001b[0m \u001b[38;5;28mmap\u001b[39m \u001b[38;5;241m=\u001b[39m folium\u001b[38;5;241m.\u001b[39mMap(location\u001b[38;5;241m=\u001b[39mlonglat, zoom_start\u001b[38;5;241m=\u001b[39m\u001b[38;5;241m6\u001b[39m) \n\u001b[1;32m     92\u001b[0m \u001b[38;5;66;03m# Add choroplet layer to the map \u001b[39;00m\n\u001b[0;32m---> 93\u001b[0m \u001b[38;5;28;43mmap\u001b[39;49m\u001b[38;5;241;43m.\u001b[39;49m\u001b[43mchoropleth\u001b[49m(geo_str\u001b[38;5;241m=\u001b[39mtop_x_jsons, \u001b[38;5;66;03m#geographical information for the areas\u001b[39;00m\n\u001b[1;32m     94\u001b[0m               data\u001b[38;5;241m=\u001b[39mtop_x_data[[geographic_element,data_column]], \u001b[38;5;66;03m# the data to use to colour the areas\u001b[39;00m\n\u001b[1;32m     95\u001b[0m               columns\u001b[38;5;241m=\u001b[39m[geographic_element,data_column], \u001b[38;5;66;03m# values from the data to use\u001b[39;00m\n\u001b[1;32m     96\u001b[0m               key_on\u001b[38;5;241m=\u001b[39m\u001b[38;5;124m'\u001b[39m\u001b[38;5;124mfeature.properties.\u001b[39m\u001b[38;5;132;01m%s\u001b[39;00m\u001b[38;5;124m'\u001b[39m\u001b[38;5;241m%\u001b[39mgeographic_element, \u001b[38;5;66;03m# the corresponding data in the geoJson to identify the areas\u001b[39;00m\n\u001b[1;32m     97\u001b[0m               fill_color\u001b[38;5;241m=\u001b[39mcolor_palette, \u001b[38;5;66;03m# color-scale\u001b[39;00m\n\u001b[1;32m     98\u001b[0m               fill_opacity\u001b[38;5;241m=\u001b[39m\u001b[38;5;241m0.6\u001b[39m, \u001b[38;5;66;03m# colour opacitity\u001b[39;00m\n\u001b[1;32m     99\u001b[0m               line_opacity\u001b[38;5;241m=\u001b[39m\u001b[38;5;241m-\u001b[39m\u001b[38;5;241m1\u001b[39m,\n\u001b[1;32m    100\u001b[0m               threshold_scale\u001b[38;5;241m=\u001b[39mbins,\n\u001b[1;32m    101\u001b[0m               legend_name\u001b[38;5;241m=\u001b[39m\u001b[38;5;124m'\u001b[39m\u001b[38;5;132;01m%s\u001b[39;00m\u001b[38;5;124m'\u001b[39m\u001b[38;5;241m%\u001b[39mdata_column)\n\u001b[1;32m    103\u001b[0m \u001b[38;5;28;01mreturn\u001b[39;00m \u001b[38;5;28mmap\u001b[39m\n",
      "\u001b[0;31mAttributeError\u001b[0m: 'Map' object has no attribute 'choropleth'"
     ]
    }
   ],
   "source": [
    "# Code Cell 16\n",
    "\n",
    "p_bins = np.arange(1, 12, (12-1)/6)\n",
    "\n",
    "p_bins = list(p_bins)\n",
    "\n",
    "mymap = folium_utils.folium_top_x_preds_mapper(dfp, la_json, 'LA_code', 'Average_p', p_bins)\n",
    "\n",
    "mymap"
   ]
  },
  {
   "cell_type": "markdown",
   "metadata": {
    "collapsed": true
   },
   "source": [
    "Much better!\n",
    "\n",
    "The visualization of the data with a simple line plot lets us spot an error very easily. Sometimes a deeper investigation is needed.\n",
    "\n",
    "For additional practice, repeat the exercise, but create the visualizations for the columns Average_d (average download speed) and Average_u (average upload speed)."
   ]
  },
  {
   "cell_type": "markdown",
   "metadata": {
    "collapsed": true
   },
   "source": [
    "<font size='0.5'>&copy; 2017 Cisco and/or its affiliates. All rights reserved. This document is Cisco Public.<font>"
   ]
  }
 ],
 "metadata": {
  "anaconda-cloud": {},
  "kernelspec": {
   "display_name": "Python 3",
   "language": "python",
   "name": "python3"
  },
  "language_info": {
   "codemirror_mode": {
    "name": "ipython",
    "version": 3
   },
   "file_extension": ".py",
   "mimetype": "text/x-python",
   "name": "python",
   "nbconvert_exporter": "python",
   "pygments_lexer": "ipython3",
   "version": "3.9.6"
  }
 },
 "nbformat": 4,
 "nbformat_minor": 1
}
